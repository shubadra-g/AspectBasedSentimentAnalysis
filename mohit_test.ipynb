{
 "cells": [
  {
   "cell_type": "code",
   "execution_count": 1,
   "metadata": {},
   "outputs": [
    {
     "name": "stdout",
     "output_type": "stream",
     "text": [
      "success\n"
     ]
    },
    {
     "data": {
      "text/plain": [
       "'hello world'"
      ]
     },
     "execution_count": 1,
     "metadata": {},
     "output_type": "execute_result"
    }
   ],
   "source": [
    "import pandas as pd\n",
    "from sklearn import svm\n",
    "import numpy as np\n",
    "\n",
    "from sklearn.model_selection import KFold, train_test_split\n",
    "from sklearn.metrics import accuracy_score, classification_report\n",
    "# from sklearn.metrics import accuracy_score\n",
    "import pickle\n",
    "from sklearn.metrics import precision_score\n",
    "from sklearn.metrics import recall_score\n",
    "from sklearn.metrics import f1_score\n",
    "from sklearn.model_selection import cross_validate\n",
    "from sklearn.model_selection import cross_val_score\n",
    "from sklearn.model_selection import cross_val_predict\n",
    "from sklearn.metrics.scorer import make_scorer\n",
    "from sklearn.metrics import confusion_matrix\n",
    "from sklearn import metrics\n",
    "print('success')\n",
    "'hello world'"
   ]
  },
  {
   "cell_type": "code",
   "execution_count": 2,
   "metadata": {},
   "outputs": [
    {
     "name": "stdout",
     "output_type": "stream",
     "text": [
      "(3602, 3613)\n",
      "(3602, 3612)\n"
     ]
    },
    {
     "data": {
      "text/plain": [
       "'hello world'"
      ]
     },
     "execution_count": 2,
     "metadata": {},
     "output_type": "execute_result"
    }
   ],
   "source": [
    "'''Load data set'''\n",
    "\n",
    "df1 = pd.read_csv(\"weightxy_data2.csv\")\n",
    "\n",
    "print(df1.shape)\n",
    "\n",
    "print(df1.iloc[:,:-1].shape)\n",
    "\n",
    "'hello world'"
   ]
  },
  {
   "cell_type": "code",
   "execution_count": 18,
   "metadata": {},
   "outputs": [
    {
     "name": "stdout",
     "output_type": "stream",
     "text": [
      "1.5\n",
      "1854\n",
      "processed df1 (3602, 1759)\n"
     ]
    }
   ],
   "source": [
    "# print(df1['Unnamed: 0'])\n",
    "\n",
    "print(pd.DataFrame.max(df1[df1.columns[0]]))\n",
    "count = 0\n",
    "# processed_df1 = df1[['class_']].copy()\n",
    "processed_df1 = pd.DataFrame()\n",
    "\n",
    "for column in df1:\n",
    "#     print(column)\n",
    "    temp_array = np.array(df1[column].values)\n",
    "#     print(np.where(temp_array > 0)[0].shape)\n",
    "    if np.where(temp_array > 0)[0].shape[0] <= 5:\n",
    "        if pd.DataFrame.max(df1[column]) > 1:\n",
    "            processed_df1[column] = df1[[column]].copy()\n",
    "        else:\n",
    "            count = count + 1\n",
    "    else: \n",
    "        processed_df1[column] = df1[[column]].copy()\n",
    "        pass\n",
    "    \n",
    "print(count)\n",
    "print('processed df1', processed_df1.shape)\n",
    "#     if pd.DataFrame.max(df1[column]) == 0:\n",
    "#         print(column)"
   ]
  },
  {
   "cell_type": "code",
   "execution_count": 19,
   "metadata": {},
   "outputs": [
    {
     "name": "stdout",
     "output_type": "stream",
     "text": [
      "success\n",
      "(3602, 1758)\n",
      "(3602,)\n"
     ]
    },
    {
     "data": {
      "text/plain": [
       "'hello world'"
      ]
     },
     "execution_count": 19,
     "metadata": {},
     "output_type": "execute_result"
    }
   ],
   "source": [
    "# X_train, Y_train = df1.iloc[:,:-1], df1['class_']\n",
    "# X_train, Y_train = df1.drop(['class_'], axis = 1), df1['class_']\n",
    "X_train, Y_train = processed_df1.drop(['class_'], axis = 1), processed_df1['class_']\n",
    "\n",
    "# svm_clf = svm.SVC()\n",
    "svm_clf = svm.LinearSVC()\n",
    "\n",
    "print('success')\n",
    "print(X_train.shape)\n",
    "print(Y_train.shape)\n",
    "\n",
    "'hello world'"
   ]
  },
  {
   "cell_type": "code",
   "execution_count": 20,
   "metadata": {},
   "outputs": [
    {
     "name": "stdout",
     "output_type": "stream",
     "text": [
      "{'fit_time': array([ 0.19657183,  0.21881437,  0.20314693,  0.2435689 ,  0.2500205 ,\n",
      "        0.21877313,  0.18005133,  0.19445992,  0.25264525,  0.21881509]), 'score_time': array([ 0.0155623 ,  0.01558495,  0.        ,  0.        ,  0.        ,\n",
      "        0.        ,  0.        ,  0.        ,  0.        ,  0.        ]), 'test_precision_micro': array([ 0.71546961,  0.6961326 ,  0.69337017,  0.6232687 ,  0.70555556,\n",
      "        0.69637883,  0.67409471,  0.62674095,  0.67130919,  0.6908078 ]), 'train_precision_micro': array([ 0.93425926,  0.94135802,  0.93333333,  0.93921629,  0.93429981,\n",
      "        0.93802035,  0.937712  ,  0.94233734,  0.93894542,  0.93524514]), 'test_recall_micro': array([ 0.71546961,  0.6961326 ,  0.69337017,  0.6232687 ,  0.70555556,\n",
      "        0.69637883,  0.67409471,  0.62674095,  0.67130919,  0.6908078 ]), 'train_recall_micro': array([ 0.93425926,  0.94135802,  0.93333333,  0.93921629,  0.93429981,\n",
      "        0.93802035,  0.937712  ,  0.94233734,  0.93894542,  0.93524514]), 'test_accuracy': array([ 0.71546961,  0.6961326 ,  0.69337017,  0.6232687 ,  0.70555556,\n",
      "        0.69637883,  0.67409471,  0.62674095,  0.67130919,  0.6908078 ]), 'train_accuracy': array([ 0.93425926,  0.94135802,  0.93333333,  0.93921629,  0.93429981,\n",
      "        0.93802035,  0.937712  ,  0.94233734,  0.93894542,  0.93524514])}\n",
      "success\n"
     ]
    },
    {
     "data": {
      "text/plain": [
       "'hello world'"
      ]
     },
     "execution_count": 20,
     "metadata": {},
     "output_type": "execute_result"
    }
   ],
   "source": [
    "'''Cross validation'''\n",
    "scores = cross_validate(svm_clf, X_train, Y_train, cv = 10, scoring = ['precision_micro', 'recall_micro', 'accuracy'] )\n",
    "\n",
    "print(scores)\n",
    "print('success')\n",
    "'hello world'"
   ]
  },
  {
   "cell_type": "code",
   "execution_count": null,
   "metadata": {},
   "outputs": [],
   "source": [
    "print(scores)\n"
   ]
  },
  {
   "cell_type": "code",
   "execution_count": null,
   "metadata": {},
   "outputs": [],
   "source": [
    "something = cross_val_score(svm_clf, X_train, Y_train, cv = 10 )"
   ]
  },
  {
   "cell_type": "code",
   "execution_count": null,
   "metadata": {},
   "outputs": [],
   "source": [
    "print(something)"
   ]
  },
  {
   "cell_type": "code",
   "execution_count": null,
   "metadata": {},
   "outputs": [],
   "source": [
    "print(len(something))"
   ]
  },
  {
   "cell_type": "code",
   "execution_count": null,
   "metadata": {
    "collapsed": true
   },
   "outputs": [],
   "source": []
  }
 ],
 "metadata": {
  "kernelspec": {
   "display_name": "Python 3",
   "language": "python",
   "name": "python3"
  },
  "language_info": {
   "codemirror_mode": {
    "name": "ipython",
    "version": 3
   },
   "file_extension": ".py",
   "mimetype": "text/x-python",
   "name": "python",
   "nbconvert_exporter": "python",
   "pygments_lexer": "ipython3",
   "version": "3.6.3"
  }
 },
 "nbformat": 4,
 "nbformat_minor": 2
}
