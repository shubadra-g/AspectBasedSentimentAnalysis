{
 "cells": [
  {
   "cell_type": "code",
   "execution_count": 1,
   "metadata": {},
   "outputs": [
    {
     "name": "stdout",
     "output_type": "stream",
     "text": [
      "success\n"
     ]
    },
    {
     "data": {
      "text/plain": [
       "'hello world'"
      ]
     },
     "execution_count": 1,
     "metadata": {},
     "output_type": "execute_result"
    }
   ],
   "source": [
    "import pandas as pd\n",
    "from sklearn import svm\n",
    "import numpy as np\n",
    "\n",
    "from sklearn.model_selection import KFold, train_test_split\n",
    "from sklearn.metrics import accuracy_score, classification_report\n",
    "# from sklearn.metrics import accuracy_score\n",
    "import pickle\n",
    "from sklearn.metrics import precision_score\n",
    "from sklearn.metrics import recall_score\n",
    "from sklearn.metrics import f1_score\n",
    "from sklearn.model_selection import cross_validate\n",
    "from sklearn.model_selection import cross_val_score\n",
    "from sklearn.model_selection import cross_val_predict\n",
    "from sklearn.metrics.scorer import make_scorer\n",
    "from sklearn.metrics import confusion_matrix\n",
    "from sklearn import metrics\n",
    "print('success')\n",
    "'hello world'"
   ]
  },
  {
   "cell_type": "code",
   "execution_count": 2,
   "metadata": {},
   "outputs": [
    {
     "name": "stdout",
     "output_type": "stream",
     "text": [
      "(3602, 3613)\n",
      "(3602, 3612)\n"
     ]
    },
    {
     "data": {
      "text/plain": [
       "'hello world'"
      ]
     },
     "execution_count": 2,
     "metadata": {},
     "output_type": "execute_result"
    }
   ],
   "source": [
    "'''Load data set'''\n",
    "\n",
    "df1 = pd.read_csv(\"weightxy_data2.csv\")\n",
    "# df1 = pd.read_csv(\"weightxy_data1.csv\")\n",
    "\n",
    "print(df1.shape)\n",
    "\n",
    "print(df1.iloc[:,:-1].shape)\n",
    "\n",
    "'hello world'"
   ]
  },
  {
   "cell_type": "code",
   "execution_count": 3,
   "metadata": {},
   "outputs": [
    {
     "name": "stdout",
     "output_type": "stream",
     "text": [
      "111\n",
      "processed df1 (3602, 3503)\n"
     ]
    }
   ],
   "source": [
    "# print(df1['Unnamed: 0'])\n",
    "\n",
    "count = 0\n",
    "# processed_df1 = df1[['class_']].copy()\n",
    "processed_df1 = pd.DataFrame()\n",
    "temp_one_AT = pd.DataFrame()\n",
    "temp_df2 = pd.DataFrame()\n",
    "\n",
    "for column in df1:\n",
    "#     print(column)\n",
    "    temp_array = np.array(df1[column].values)\n",
    "#     print(np.where(temp_array > 0)[0].shape)\n",
    "    if np.where(temp_array > 0)[0].shape[0] <= 1:\n",
    "        if pd.DataFrame.max(df1[column]) > 1:\n",
    "            temp_one_AT[column] = df1[[column]].copy()\n",
    "            count = count + 1\n",
    "            pass\n",
    "        else:\n",
    "            temp_df2[column] = df1[[column]].copy()\n",
    "            processed_df1[column] = df1[[column]].copy()\n",
    "#             count = count + 1\n",
    "#             print(column)\n",
    "    else: \n",
    "        processed_df1[column] = df1[[column]].copy()\n",
    "        pass\n",
    "\n",
    "processed_df1['temp_1'] = temp_one_AT.sum(axis=1)\n",
    "# processed_df1[temp_2] = temp_df2.sum(axis=1)\n",
    "    \n",
    "print(count)\n",
    "print('processed df1', processed_df1.shape)\n",
    "#     if pd.DataFrame.max(df1[column]) == 0:\n",
    "#         print(column)"
   ]
  },
  {
   "cell_type": "code",
   "execution_count": 4,
   "metadata": {},
   "outputs": [
    {
     "name": "stdout",
     "output_type": "stream",
     "text": [
      "success\n",
      "(3602, 3612)\n",
      "(3602,)\n"
     ]
    },
    {
     "data": {
      "text/plain": [
       "'hello world'"
      ]
     },
     "execution_count": 4,
     "metadata": {},
     "output_type": "execute_result"
    }
   ],
   "source": [
    "# X_train, Y_train = df1.iloc[:,:-1], df1['class_']\n",
    "X_train, Y_train = df1.drop(['class_'], axis = 1), df1['class_']\n",
    "# X_train, Y_train = processed_df1.drop(['class_'], axis = 1), processed_df1['class_']\n",
    "\n",
    "# svm_clf = svm.SVC()\n",
    "svm_clf = svm.LinearSVC(C = 0.1, loss='squared_hinge', penalty = 'l2')\n",
    "# svm_clf = svm.LinearSVC()\n",
    "\n",
    "print('success')\n",
    "print(X_train.shape)\n",
    "print(Y_train.shape)\n",
    "\n",
    "'hello world'"
   ]
  },
  {
   "cell_type": "code",
   "execution_count": 5,
   "metadata": {},
   "outputs": [
    {
     "name": "stdout",
     "output_type": "stream",
     "text": [
      "{'train_recall_micro': array([0.97314815, 0.97623457, 0.97314815, 0.97562481, 0.97285626,\n",
      "       0.97502313, 0.97748998, 0.97718162, 0.97563984, 0.97502313]), 'train_accuracy': array([0.97314815, 0.97623457, 0.97314815, 0.97562481, 0.97285626,\n",
      "       0.97502313, 0.97748998, 0.97718162, 0.97563984, 0.97502313]), 'score_time': array([0.03121567, 0.01562786, 0.01562762, 0.01562786, 0.02270937,\n",
      "       0.        , 0.01562786, 0.0155828 , 0.01562524, 0.01562715]), 'fit_time': array([0.29382849, 0.31253242, 0.45119023, 0.31000471, 0.31253505,\n",
      "       0.34378505, 0.29690361, 0.33361936, 0.31253457, 0.34291482]), 'train_precision_micro': array([0.97314815, 0.97623457, 0.97314815, 0.97562481, 0.97285626,\n",
      "       0.97502313, 0.97748998, 0.97718162, 0.97563984, 0.97502313]), 'test_recall_micro': array([0.72099448, 0.70718232, 0.6961326 , 0.62049861, 0.70833333,\n",
      "       0.68523677, 0.67409471, 0.63788301, 0.68523677, 0.68245125]), 'test_precision_micro': array([0.72099448, 0.70718232, 0.6961326 , 0.62049861, 0.70833333,\n",
      "       0.68523677, 0.67409471, 0.63788301, 0.68523677, 0.68245125]), 'test_accuracy': array([0.72099448, 0.70718232, 0.6961326 , 0.62049861, 0.70833333,\n",
      "       0.68523677, 0.67409471, 0.63788301, 0.68523677, 0.68245125])}\n",
      "success\n"
     ]
    },
    {
     "data": {
      "text/plain": [
       "'hello world'"
      ]
     },
     "execution_count": 5,
     "metadata": {},
     "output_type": "execute_result"
    }
   ],
   "source": [
    "'''Cross validation'''\n",
    "scores = cross_validate(svm_clf, X_train, Y_train, cv = 10, scoring = ['precision_micro', 'recall_micro', 'accuracy'] )\n",
    "\n",
    "print(scores)\n",
    "print('success')\n",
    "'hello world'"
   ]
  },
  {
   "cell_type": "code",
   "execution_count": 6,
   "metadata": {},
   "outputs": [
    {
     "name": "stdout",
     "output_type": "stream",
     "text": [
      "[-1 -1  1 ...  1  0  0]\n",
      "success\n",
      "\n",
      "\n",
      "Model Accuracy is: 68.1843%\n",
      "Pr, Re scores wrt each class\n",
      "             precision    recall  f1-score   support\n",
      "\n",
      "          0       0.51      0.55      0.53       743\n",
      "          1       0.40      0.44      0.42       570\n",
      "         -1       0.83      0.78      0.81      2289\n",
      "\n",
      "avg / total       0.69      0.68      0.69      3602\n",
      "\n"
     ]
    }
   ],
   "source": [
    "'''Cross validation'''\n",
    "y_pred = cross_val_predict(svm_clf, X_train, Y_train, cv = 10) #, scoring = 'accuracy')\n",
    "\n",
    "print(y_pred)\n",
    "print('success')\n",
    "'hello world'\n",
    "\n",
    "\n",
    "mod_accracy = accuracy_score(y_pred, Y_train)\n",
    "print('\\n\\nModel Accuracy is: {:.4%}' .format(mod_accracy))\n",
    "\n",
    "target_names = ['0', '1', '-1']\n",
    "print('Pr, Re scores wrt each class')\n",
    "print(classification_report(y_pred, Y_train, target_names=target_names))\n"
   ]
  },
  {
   "cell_type": "code",
   "execution_count": 7,
   "metadata": {
    "collapsed": true
   },
   "outputs": [],
   "source": [
    "something = cross_val_score(svm_clf, X_train, Y_train, cv = 10 )"
   ]
  },
  {
   "cell_type": "code",
   "execution_count": 8,
   "metadata": {},
   "outputs": [
    {
     "name": "stdout",
     "output_type": "stream",
     "text": [
      "[ 0.70258621  0.69396552  0.71982759  0.70689655  0.73706897  0.6969697\n",
      "  0.70434783  0.73043478  0.74782609  0.75217391]\n"
     ]
    }
   ],
   "source": [
    "print(something)"
   ]
  },
  {
   "cell_type": "code",
   "execution_count": null,
   "metadata": {
    "collapsed": true
   },
   "outputs": [],
   "source": [
    "print(len(something))"
   ]
  },
  {
   "cell_type": "code",
   "execution_count": null,
   "metadata": {
    "collapsed": true
   },
   "outputs": [],
   "source": []
  }
 ],
 "metadata": {
  "kernelspec": {
   "display_name": "Python 3",
   "language": "python",
   "name": "python3"
  },
  "language_info": {
   "codemirror_mode": {
    "name": "ipython",
    "version": 3
   },
   "file_extension": ".py",
   "mimetype": "text/x-python",
   "name": "python",
   "nbconvert_exporter": "python",
   "pygments_lexer": "ipython3",
   "version": "3.5.5"
  }
 },
 "nbformat": 4,
 "nbformat_minor": 2
}
