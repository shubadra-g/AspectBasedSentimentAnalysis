{
 "cells": [
  {
   "cell_type": "code",
   "execution_count": 1,
   "metadata": {},
   "outputs": [
    {
     "name": "stderr",
     "output_type": "stream",
     "text": [
      "Using TensorFlow backend.\n",
      "C:\\Users\\mohit\\Anaconda3\\envs\\tensorflow\\lib\\site-packages\\sklearn\\cross_validation.py:41: DeprecationWarning: This module was deprecated in version 0.18 in favor of the model_selection module into which all the refactored classes and functions are moved. Also note that the interface of the new CV iterators are different from that of this module. This module will be removed in 0.20.\n",
      "  \"This module will be removed in 0.20.\", DeprecationWarning)\n"
     ]
    }
   ],
   "source": [
    "import pandas as pd\n",
    "import numpy as np\n",
    "\n",
    "from keras.models import Sequential\n",
    "from keras.layers import LSTM\n",
    "from keras.layers import Dropout\n",
    "from keras.layers.core import Dense, Dropout, Activation, Flatten\n",
    "from keras.layers.convolutional import Convolution2D, MaxPooling2D\n",
    "from keras.utils import np_utils\n",
    "from keras.preprocessing.image import  img_to_array\n",
    "from keras import backend as K\n",
    "\n",
    "\n",
    "from sklearn.cross_validation import train_test_split"
   ]
  },
  {
   "cell_type": "code",
   "execution_count": 2,
   "metadata": {},
   "outputs": [
    {
     "name": "stdout",
     "output_type": "stream",
     "text": [
      "(3602, 3613)\n",
      "(3602, 3612)\n",
      "(3602, 3612)\n",
      "(3602,)\n"
     ]
    }
   ],
   "source": [
    "'''Load data set'''\n",
    "\n",
    "df1 = pd.read_csv(\"weightxy_data2.csv\")\n",
    "# df1 = pd.read_csv(\"weightxy_data1.csv\")\n",
    "\n",
    "print(df1.shape)\n",
    "print(df1.drop(['class_'], axis = 1).shape)\n",
    "X, Y = df1.drop(['class_'], axis = 1), df1['class_']\n",
    "x=np.array(X)\n",
    "y=np.array(Y)\n",
    "\n",
    "print(x.shape)\n",
    "print(y.shape)"
   ]
  },
  {
   "cell_type": "code",
   "execution_count": 3,
   "metadata": {},
   "outputs": [
    {
     "name": "stdout",
     "output_type": "stream",
     "text": [
      "(2881, 3612)\n",
      "(2881,)\n",
      "(721, 3612)\n",
      "(721,)\n"
     ]
    }
   ],
   "source": [
    "batch_size=32\n",
    "nb_classes=3\n",
    "nb_epoch=20\n",
    "nb_filters=32\n",
    "nb_pool=2\n",
    "nb_conv=3\n",
    "\n",
    "x_train, x_test, y_train, y_test= train_test_split(x,y,test_size=0.2,random_state=4)\n",
    "print(x_train.shape)\n",
    "print(y_train.shape)\n",
    "print(x_test.shape)\n",
    "print(y_test.shape)"
   ]
  },
  {
   "cell_type": "code",
   "execution_count": 4,
   "metadata": {},
   "outputs": [],
   "source": [
    "uniques, id_train=np.unique(y_train,return_inverse=True)\n",
    "y_train=np_utils.to_categorical(id_train,nb_classes)\n",
    "uniques, id_test=np.unique(y_test,return_inverse=True)\n",
    "y_test=np_utils.to_categorical(id_test,nb_classes)\n",
    "\n"
   ]
  },
  {
   "cell_type": "code",
   "execution_count": 9,
   "metadata": {},
   "outputs": [
    {
     "name": "stdout",
     "output_type": "stream",
     "text": [
      "(2881, 3)\n",
      "(721, 3)\n",
      "[0. 1. 0.]\n"
     ]
    }
   ],
   "source": [
    "print(y_train.shape)\n",
    "print(y_test.shape)\n",
    "print(y_test[0])"
   ]
  },
  {
   "cell_type": "code",
   "execution_count": 6,
   "metadata": {},
   "outputs": [
    {
     "name": "stdout",
     "output_type": "stream",
     "text": [
      "Epoch 1/10\n",
      "2881/2881 [==============================] - 5s 2ms/step - loss: 0.9328 - acc: 0.5960A: 1s - loss: 0\n",
      "Epoch 2/10\n",
      "2881/2881 [==============================] - 3s 999us/step - loss: 0.6395 - acc: 0.7286\n",
      "Epoch 3/10\n",
      "2881/2881 [==============================] - 3s 994us/step - loss: 0.4047 - acc: 0.8605\n",
      "Epoch 4/10\n",
      "2881/2881 [==============================] - 3s 966us/step - loss: 0.2802 - acc: 0.9073\n",
      "Epoch 5/10\n",
      "2881/2881 [==============================] - 3s 956us/step - loss: 0.2041 - acc: 0.9316\n",
      "Epoch 6/10\n",
      "2881/2881 [==============================] - 3s 906us/step - loss: 0.1530 - acc: 0.9486\n",
      "Epoch 7/10\n",
      "2881/2881 [==============================] - 3s 1ms/step - loss: 0.1169 - acc: 0.9618\n",
      "Epoch 8/10\n",
      "2881/2881 [==============================] - 2s 751us/step - loss: 0.0935 - acc: 0.9705\n",
      "Epoch 9/10\n",
      "2881/2881 [==============================] - 3s 908us/step - loss: 0.0759 - acc: 0.9757\n",
      "Epoch 10/10\n",
      "2881/2881 [==============================] - 2s 854us/step - loss: 0.0642 - acc: 0.9778\n"
     ]
    },
    {
     "data": {
      "text/plain": [
       "<keras.callbacks.History at 0x1a73c981be0>"
      ]
     },
     "execution_count": 6,
     "metadata": {},
     "output_type": "execute_result"
    }
   ],
   "source": [
    "model = Sequential()\n",
    "model.add(Dense(10, input_dim=3612, activation='relu', name = 'first_input'))\n",
    "model.add(Dropout(1, name = 'first_dropout'))\n",
    "model.add(Dense(10, activation='relu', name = 'first_hidden'))\n",
    "model.add(Dropout(1, name = 'second_dropout'))\n",
    "model.add(Dense(3, activation='softmax', name = 'output_layer'))\n",
    "\n",
    "# 2. compile the network\n",
    "model.compile(loss='categorical_crossentropy', optimizer='adam', metrics=['accuracy'])\n",
    "\n",
    "\n",
    "# 3. fit the network\n",
    "model.fit(x_train, y_train, epochs=10, batch_size=10)\n",
    "# print(history)\n"
   ]
  },
  {
   "cell_type": "code",
   "execution_count": 7,
   "metadata": {},
   "outputs": [],
   "source": [
    "probabilities = model.predict(x_test)"
   ]
  },
  {
   "cell_type": "code",
   "execution_count": 10,
   "metadata": {},
   "outputs": [
    {
     "name": "stdout",
     "output_type": "stream",
     "text": [
      "(721, 3)\n"
     ]
    }
   ],
   "source": [
    "print(probabilities.shape)"
   ]
  },
  {
   "cell_type": "code",
   "execution_count": 12,
   "metadata": {},
   "outputs": [
    {
     "name": "stdout",
     "output_type": "stream",
     "text": [
      "721/721 [==============================] - 0s 500us/step\n",
      "[1.0383778719564747, 0.7406380031872721]\n"
     ]
    }
   ],
   "source": [
    "scores = model.evaluate(x_test, y_test)\n",
    "print(scores)"
   ]
  },
  {
   "cell_type": "code",
   "execution_count": null,
   "metadata": {},
   "outputs": [],
   "source": []
  }
 ],
 "metadata": {
  "kernelspec": {
   "display_name": "Python 3",
   "language": "python",
   "name": "python3"
  },
  "language_info": {
   "codemirror_mode": {
    "name": "ipython",
    "version": 3
   },
   "file_extension": ".py",
   "mimetype": "text/x-python",
   "name": "python",
   "nbconvert_exporter": "python",
   "pygments_lexer": "ipython3",
   "version": "3.5.5"
  }
 },
 "nbformat": 4,
 "nbformat_minor": 2
}
