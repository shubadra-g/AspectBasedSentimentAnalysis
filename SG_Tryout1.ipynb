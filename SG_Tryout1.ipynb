{
 "cells": [
  {
   "cell_type": "code",
   "execution_count": 1,
   "metadata": {},
   "outputs": [
    {
     "name": "stdout",
     "output_type": "stream",
     "text": [
      "success\n"
     ]
    },
    {
     "data": {
      "text/plain": [
       "'hello world'"
      ]
     },
     "execution_count": 1,
     "metadata": {},
     "output_type": "execute_result"
    }
   ],
   "source": [
    "import pandas as pd\n",
    "from sklearn import svm\n",
    "\n",
    "from sklearn.model_selection import KFold, train_test_split\n",
    "from sklearn.metrics import accuracy_score, classification_report\n",
    "# from sklearn.metrics import accuracy_score\n",
    "import pickle\n",
    "from sklearn.metrics import precision_score\n",
    "from sklearn.metrics import recall_score\n",
    "from sklearn.metrics import f1_score\n",
    "from sklearn.model_selection import cross_validate, cross_val_predict\n",
    "from sklearn.metrics.scorer import make_scorer\n",
    "from sklearn.metrics import confusion_matrix\n",
    "from sklearn import metrics\n",
    "print('success')\n",
    "'hello world'"
   ]
  },
  {
   "cell_type": "code",
   "execution_count": 2,
   "metadata": {},
   "outputs": [
    {
     "name": "stdout",
     "output_type": "stream",
     "text": [
      "(2313, 2969)\n",
      "(2313, 2968)\n"
     ]
    },
    {
     "data": {
      "text/plain": [
       "'hello world'"
      ]
     },
     "execution_count": 2,
     "metadata": {},
     "output_type": "execute_result"
    }
   ],
   "source": [
    "'''Load data set'''\n",
    "df1 = pd.read_csv(\"weightxy_data1.csv\")\n",
    "print(df1.shape)\n",
    "print(df1.iloc[:,:-1].shape)\n",
    "'hello world'"
   ]
  },
  {
   "cell_type": "code",
   "execution_count": 22,
   "metadata": {},
   "outputs": [
    {
     "name": "stdout",
     "output_type": "stream",
     "text": [
      "success\n",
      "(2313, 2968)\n",
      "(2313,)\n"
     ]
    },
    {
     "data": {
      "text/plain": [
       "'hello world'"
      ]
     },
     "execution_count": 22,
     "metadata": {},
     "output_type": "execute_result"
    }
   ],
   "source": [
    "# X_train, X_test, Y_train, Y_test = train_test_split(df1.iloc[:,:-1], df1['class_'], test_size = 0.3, random_state =42)\n",
    "X, Y = df1.iloc[:,:-1], df1['class_']\n",
    "# svm_clf = svm.SVC(kernel = 'rbf')\n",
    "svm_clf = svm.LinearSVC()\n",
    "print('success')\n",
    "print(X_train.shape)\n",
    "print(Y_train.shape)\n",
    "'hello world'"
   ]
  },
  {
   "cell_type": "code",
   "execution_count": 40,
   "metadata": {},
   "outputs": [
    {
     "name": "stdout",
     "output_type": "stream",
     "text": [
      "dict_keys(['fit_time', 'score_time', 'test_score', 'train_score'])\n",
      "success\n"
     ]
    },
    {
     "data": {
      "text/plain": [
       "'hello world'"
      ]
     },
     "execution_count": 40,
     "metadata": {},
     "output_type": "execute_result"
    }
   ],
   "source": [
    "'''Cross validation'''\n",
    "scores = cross_validate(svm_clf, X_train, Y_train, cv = 10, scoring = 'accuracy')\n",
    "\n",
    "print(scores.keys())\n",
    "print('success')\n",
    "'hello world'"
   ]
  },
  {
   "cell_type": "code",
   "execution_count": 35,
   "metadata": {},
   "outputs": [
    {
     "name": "stdout",
     "output_type": "stream",
     "text": [
      "{'fit_time': array([ 0.36422086,  0.43131614,  0.41930652,  0.43277931,  0.42857289,\n",
      "        0.42609239,  0.40029001,  0.43706083,  0.42860079,  0.418612  ]), 'score_time': array([ 0.        ,  0.        ,  0.00200438,  0.00694156,  0.        ,\n",
      "        0.00300908,  0.        ,  0.        ,  0.01571608,  0.        ]), 'test_score': array([ 0.64397033,  0.67050172,  0.70153802,  0.6782678 ,  0.65733938,\n",
      "        0.68299247,  0.70575973,  0.69857398,  0.71782521,  0.70349063]), 'train_score': array([ 0.98493501,  0.98543145,  0.98414877,  0.98414412,  0.98345718,\n",
      "        0.98667012,  0.98702581,  0.98336107,  0.98422796,  0.98335597])}\n"
     ]
    }
   ],
   "source": [
    "print(scores)"
   ]
  },
  {
   "cell_type": "code",
   "execution_count": 33,
   "metadata": {},
   "outputs": [
    {
     "name": "stdout",
     "output_type": "stream",
     "text": [
      "dict_keys(['fit_time', 'score_time', 'test_score', 'train_score'])\n",
      "success\n",
      "{'fit_time': array([ 5.5008359 ,  5.07896113,  5.28814936,  5.3848424 ,  5.37402415,\n",
      "        5.06019902,  4.89597917,  5.25338435,  5.48487449,  5.2946074 ]), 'score_time': array([ 0.04982114,  0.04562497,  0.02989864,  0.03485727,  0.04191017,\n",
      "        0.04948449,  0.04350209,  0.04970217,  0.04002285,  0.04534721]), 'test_score': array([ 0.59482759,  0.65086207,  0.61637931,  0.59913793,  0.62068966,\n",
      "        0.65086207,  0.67532468,  0.61304348,  0.5826087 ,  0.65217391]), 'train_score': array([ 0.77126382,  0.76501682,  0.76838059,  0.7534839 ,  0.75060067,\n",
      "        0.76549736,  0.76176753,  0.76572252,  0.75084013,  0.76428229])}\n"
     ]
    }
   ],
   "source": [
    "from sklearn.ensemble import AdaBoostClassifier\n",
    "from sklearn.tree import DecisionTreeClassifier\n",
    "adaBoost_clf = AdaBoostClassifier(DecisionTreeClassifier(max_depth=2)) #, n_estimators=2, learning_rate=1)\n",
    "scores = cross_validate(adaBoost_clf, X_train, Y_train, cv = 10)\n",
    "print(scores.keys())\n",
    "print('success')\n",
    "'hello world'\n",
    "\n",
    "print(scores)\n"
   ]
  },
  {
   "cell_type": "code",
   "execution_count": 41,
   "metadata": {},
   "outputs": [],
   "source": [
    "# '''calculate the precision recall and stuff'''\n",
    "\n",
    "# t_precision = precision_score(Y_test, t_pred, average='weighted')\n",
    "# t_recall = recall_score(Y_test, t_pred, average='weighted')\n",
    "# t_f1_score = f1_score(Y_test, t_pred, average='weighted')\n",
    "\n",
    "# print('*** Scores for SVM: ***')\n",
    "# target_names = ['0', '1', '-1']\n",
    "# print('Pr, Re scores wrt each class')\n",
    "# print(classification_report(Y_test, t_pred, target_names=target_names))\n",
    "\n",
    "# print('\\n\\nModel Accuracy is: {:.4%}' .format(mod_accracy))\n",
    "# print('\\n\\nPrecision Score is: {:.4%}' .format(t_precision))\n",
    "# print('\\n\\nRecall Score is: {:.4%}' .format(t_recall))\n",
    "# print('\\n\\nF1-Score is: {:.4%}' .format(t_f1_score))\n"
   ]
  }
 ],
 "metadata": {
  "kernelspec": {
   "display_name": "Python 3",
   "language": "python",
   "name": "python3"
  },
  "language_info": {
   "codemirror_mode": {
    "name": "ipython",
    "version": 3
   },
   "file_extension": ".py",
   "mimetype": "text/x-python",
   "name": "python",
   "nbconvert_exporter": "python",
   "pygments_lexer": "ipython3",
   "version": "3.6.3"
  }
 },
 "nbformat": 4,
 "nbformat_minor": 2
}
