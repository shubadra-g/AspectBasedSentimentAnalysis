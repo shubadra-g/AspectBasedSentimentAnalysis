{
 "cells": [
  {
   "cell_type": "code",
   "execution_count": 1,
   "metadata": {},
   "outputs": [
    {
     "name": "stdout",
     "output_type": "stream",
     "text": [
      "success\n",
      "(3602, 3614)\n",
      "(3602, 3613)\n"
     ]
    },
    {
     "data": {
      "text/plain": [
       "'hello world'"
      ]
     },
     "execution_count": 1,
     "metadata": {},
     "output_type": "execute_result"
    }
   ],
   "source": [
    "import pandas as pd\n",
    "from sklearn import svm\n",
    "import numpy as np\n",
    "\n",
    "from sklearn.model_selection import KFold, train_test_split\n",
    "from sklearn.metrics import accuracy_score, classification_report\n",
    "# from sklearn.metrics import accuracy_score\n",
    "import pickle\n",
    "from sklearn.metrics import precision_score\n",
    "from sklearn.metrics import recall_score\n",
    "from sklearn.metrics import f1_score\n",
    "from sklearn.model_selection import cross_validate, cross_val_predict\n",
    "from sklearn.metrics.scorer import make_scorer\n",
    "from sklearn.metrics import confusion_matrix\n",
    "from sklearn import metrics\n",
    "print('success')\n",
    "'hello world'\n",
    "\n",
    "'''Load data set'''\n",
    "df1 = pd.read_csv(\"weightxy_data2.csv\")\n",
    "print(df1.shape)\n",
    "print(df1.iloc[:,:-1].shape)\n",
    "'hello world'\n",
    "\n"
   ]
  },
  {
   "cell_type": "code",
   "execution_count": 2,
   "metadata": {},
   "outputs": [
    {
     "name": "stderr",
     "output_type": "stream",
     "text": [
      "Using TensorFlow backend.\n"
     ]
    }
   ],
   "source": [
    "from keras.models import Sequential\n",
    "from keras.layers import Dense\n",
    "from keras.layers import Dropout\n",
    "from keras.wrappers.scikit_learn import KerasClassifier\n",
    "from keras.utils import np_utils\n",
    "from keras.constraints import maxnorm\n",
    "from sklearn.model_selection import cross_val_score\n",
    "from sklearn.model_selection import KFold, train_test_split\n",
    "from sklearn.preprocessing import LabelEncoder\n",
    "from sklearn.pipeline import Pipeline\n",
    "from keras.wrappers.scikit_learn import KerasClassifier\n",
    "from sklearn.model_selection import StratifiedKFold\n",
    "from sklearn.model_selection import cross_val_score"
   ]
  },
  {
   "cell_type": "code",
   "execution_count": 3,
   "metadata": {},
   "outputs": [
    {
     "data": {
      "text/plain": [
       "'running on cpu'"
      ]
     },
     "execution_count": 3,
     "metadata": {},
     "output_type": "execute_result"
    }
   ],
   "source": [
    "import tensorflow as tf\n",
    "from keras import backend as K\n",
    "\n",
    "num_cores = 4\n",
    "\n",
    "CPU = True\n",
    "GPU = False\n",
    "\n",
    "if GPU:\n",
    "    num_GPU = 1\n",
    "    num_CPU = 1\n",
    "if CPU:\n",
    "    num_CPU = 1\n",
    "    num_GPU = 0\n",
    "\n",
    "\n",
    "config = tf.ConfigProto(intra_op_parallelism_threads=num_cores,\\\n",
    "        inter_op_parallelism_threads=num_cores, allow_soft_placement=True,\\\n",
    "        device_count = {'CPU' : num_CPU, 'GPU' : num_GPU})\n",
    "session = tf.Session(config=config)\n",
    "K.set_session(session)\n",
    "\n",
    "'running on cpu'"
   ]
  },
  {
   "cell_type": "code",
   "execution_count": 4,
   "metadata": {},
   "outputs": [
    {
     "name": "stdout",
     "output_type": "stream",
     "text": [
      "[-1  0  1]\n",
      "-1\n",
      "[0 2 2 ... 1 1 1]\n"
     ]
    }
   ],
   "source": [
    "seed = 7\n",
    "np.random.seed(seed)\n",
    "\n",
    "X, Y = df1.drop(['class_'], axis = 1), df1['class_']\n",
    "\n",
    "encoder = LabelEncoder()\n",
    "# print(encoder.classes_)\n",
    "\n",
    "encoder.fit(Y)\n",
    "print(encoder.classes_)\n",
    "print(Y[0])\n",
    "encoded_Y = encoder.transform(Y)\n",
    "print(encoded_Y)\n",
    "# convert integers to dummy variables (i.e. one hot encoded)\n",
    "dummy_y = np_utils.to_categorical(encoded_Y)"
   ]
  },
  {
   "cell_type": "code",
   "execution_count": 5,
   "metadata": {},
   "outputs": [
    {
     "data": {
      "text/plain": [
       "'success'"
      ]
     },
     "execution_count": 5,
     "metadata": {},
     "output_type": "execute_result"
    }
   ],
   "source": [
    "def create_model():\n",
    "    # create model\n",
    "    model = Sequential()\n",
    "    \n",
    "    model.add(Dropout(0.5, input_shape=(X.shape[1],)))\n",
    "    model.add(Dense(100, kernel_initializer='normal', activation='relu', kernel_constraint=maxnorm(3)))\n",
    "    \n",
    "#     model.add(Dense(100, input_dim=X.shape[1], kernel_initializer='normal', activation='relu', kernel_constraint=maxnorm(3)))\n",
    "    \n",
    "    model.add(Dropout(0.5))\n",
    "    model.add(Dense(50, kernel_initializer='normal', activation='relu', kernel_constraint=maxnorm(3)))\n",
    "    model.add(Dropout(0.5))\n",
    "    model.add(Dense(3, kernel_initializer='normal', activation='sigmoid'))\n",
    "    \n",
    "#     model.add(Dense(12, input_dim=X.shape[1], activation='relu'))\n",
    "#     model.add(Dense(8, activation='relu'))\n",
    "#     model.add(Dense(3, activation='softmax'))\n",
    "    # Compile model\n",
    "    model.compile(loss='categorical_crossentropy', optimizer='adam', metrics=['accuracy'])\n",
    "    return model\n",
    "\n",
    "model = KerasClassifier(build_fn=create_model, epochs=10, batch_size=10)\n",
    "kfold = StratifiedKFold(n_splits=10, shuffle=True, random_state=seed)\n",
    "\n",
    "'success'"
   ]
  },
  {
   "cell_type": "code",
   "execution_count": 6,
   "metadata": {},
   "outputs": [
    {
     "name": "stdout",
     "output_type": "stream",
     "text": [
      "(3602,)\n",
      "(3602, 3)\n"
     ]
    }
   ],
   "source": [
    "print(Y.shape)\n",
    "print(dummy_y.shape)"
   ]
  },
  {
   "cell_type": "code",
   "execution_count": 7,
   "metadata": {},
   "outputs": [
    {
     "name": "stdout",
     "output_type": "stream",
     "text": [
      "5.140563570265336e-07\n",
      "Epoch 1/10\n",
      "3240/3240 [==============================] - 4s 1ms/step - loss: 0.9541 - acc: 0.5944\n",
      "Epoch 2/10\n",
      "3240/3240 [==============================] - 4s 1ms/step - loss: 0.8387 - acc: 0.6127\n",
      "Epoch 3/10\n",
      "3240/3240 [==============================] - 4s 1ms/step - loss: 0.7696 - acc: 0.6623\n",
      "Epoch 4/10\n",
      "3240/3240 [==============================] - 4s 1ms/step - loss: 0.7275 - acc: 0.6883\n",
      "Epoch 5/10\n",
      "3240/3240 [==============================] - 4s 1ms/step - loss: 0.6769 - acc: 0.7120\n",
      "Epoch 6/10\n",
      "3240/3240 [==============================] - 4s 1ms/step - loss: 0.6633 - acc: 0.7262\n",
      "Epoch 7/10\n",
      "3240/3240 [==============================] - 4s 1ms/step - loss: 0.6204 - acc: 0.7466\n",
      "Epoch 8/10\n",
      "3240/3240 [==============================] - 4s 1ms/step - loss: 0.5905 - acc: 0.7552\n",
      "Epoch 9/10\n",
      "3240/3240 [==============================] - 4s 1ms/step - loss: 0.5710 - acc: 0.7639\n",
      "Epoch 10/10\n",
      "3240/3240 [==============================] - 4s 1ms/step - loss: 0.5542 - acc: 0.7753\n",
      "Epoch 1/10\n",
      "3240/3240 [==============================] - 4s 1ms/step - loss: 0.9648 - acc: 0.5938\n",
      "Epoch 2/10\n",
      "3240/3240 [==============================] - 4s 1ms/step - loss: 0.8558 - acc: 0.6028\n",
      "Epoch 3/10\n",
      "3240/3240 [==============================] - 4s 1ms/step - loss: 0.7819 - acc: 0.6466\n",
      "Epoch 4/10\n",
      "3240/3240 [==============================] - 6s 2ms/step - loss: 0.7190 - acc: 0.6883\n",
      "Epoch 5/10\n",
      "3240/3240 [==============================] - 4s 1ms/step - loss: 0.7043 - acc: 0.6985\n",
      "Epoch 6/10\n",
      "3240/3240 [==============================] - 3s 972us/step - loss: 0.6329 - acc: 0.7410\n",
      "Epoch 7/10\n",
      "3240/3240 [==============================] - 3s 1ms/step - loss: 0.6308 - acc: 0.7392\n",
      "Epoch 8/10\n",
      "3240/3240 [==============================] - 3s 980us/step - loss: 0.5877 - acc: 0.7623\n",
      "Epoch 9/10\n",
      "3240/3240 [==============================] - 3s 1ms/step - loss: 0.5783 - acc: 0.7648\n",
      "Epoch 10/10\n",
      "3240/3240 [==============================] - 3s 1ms/step - loss: 0.5369 - acc: 0.7898\n",
      "Epoch 1/10\n",
      "3240/3240 [==============================] - 4s 1ms/step - loss: 0.9672 - acc: 0.5867\n",
      "Epoch 2/10\n",
      "3240/3240 [==============================] - 3s 991us/step - loss: 0.8585 - acc: 0.6031\n",
      "Epoch 3/10\n",
      "3240/3240 [==============================] - 3s 1ms/step - loss: 0.7683 - acc: 0.6540\n",
      "Epoch 4/10\n",
      "3240/3240 [==============================] - ETA: 0s - loss: 0.7108 - acc: 0.689 - 3s 1ms/step - loss: 0.7110 - acc: 0.6883\n",
      "Epoch 5/10\n",
      "3240/3240 [==============================] - 3s 960us/step - loss: 0.6911 - acc: 0.7006\n",
      "Epoch 6/10\n",
      "3240/3240 [==============================] - 4s 1ms/step - loss: 0.6366 - acc: 0.7299\n",
      "Epoch 7/10\n",
      "3240/3240 [==============================] - 3s 1ms/step - loss: 0.6147 - acc: 0.7506\n",
      "Epoch 8/10\n",
      "3240/3240 [==============================] - 3s 977us/step - loss: 0.5983 - acc: 0.7639\n",
      "Epoch 9/10\n",
      "3240/3240 [==============================] - 3s 1ms/step - loss: 0.5738 - acc: 0.7731\n",
      "Epoch 10/10\n",
      "3240/3240 [==============================] - 3s 997us/step - loss: 0.5481 - acc: 0.7836\n",
      "Epoch 1/10\n",
      "3241/3241 [==============================] - 4s 1ms/step - loss: 0.9526 - acc: 0.5949\n",
      "Epoch 2/10\n",
      "3241/3241 [==============================] - 3s 1ms/step - loss: 0.8487 - acc: 0.6023\n",
      "Epoch 3/10\n",
      "3241/3241 [==============================] - 3s 981us/step - loss: 0.7799 - acc: 0.6572\n",
      "Epoch 4/10\n",
      "3241/3241 [==============================] - 3s 1ms/step - loss: 0.7364 - acc: 0.6847\n",
      "Epoch 5/10\n",
      "3241/3241 [==============================] - 3s 1ms/step - loss: 0.6929 - acc: 0.7019\n",
      "Epoch 6/10\n",
      "3241/3241 [==============================] - 3s 971us/step - loss: 0.6465 - acc: 0.7257\n",
      "Epoch 7/10\n",
      "3241/3241 [==============================] - 3s 1ms/step - loss: 0.6142 - acc: 0.7433\n",
      "Epoch 8/10\n",
      "3241/3241 [==============================] - 3s 965us/step - loss: 0.6034 - acc: 0.7556\n",
      "Epoch 9/10\n",
      "3241/3241 [==============================] - 3s 1ms/step - loss: 0.5914 - acc: 0.7612\n",
      "Epoch 10/10\n",
      "3241/3241 [==============================] - 3s 1ms/step - loss: 0.5668 - acc: 0.7745\n",
      "Epoch 1/10\n",
      "3242/3242 [==============================] - 4s 1ms/step - loss: 0.9520 - acc: 0.5975\n",
      "Epoch 2/10\n",
      "3242/3242 [==============================] - 3s 1ms/step - loss: 0.8515 - acc: 0.6018\n",
      "Epoch 3/10\n",
      "3242/3242 [==============================] - 3s 999us/step - loss: 0.7903 - acc: 0.6459\n",
      "Epoch 4/10\n",
      "3242/3242 [==============================] - 3s 1ms/step - loss: 0.7159 - acc: 0.6900\n",
      "Epoch 5/10\n",
      "3242/3242 [==============================] - 3s 1ms/step - loss: 0.6881 - acc: 0.7128\n",
      "Epoch 6/10\n",
      "3242/3242 [==============================] - 3s 990us/step - loss: 0.6351 - acc: 0.7384\n",
      "Epoch 7/10\n",
      "3242/3242 [==============================] - 3s 1ms/step - loss: 0.6211 - acc: 0.7477\n",
      "Epoch 8/10\n",
      "3242/3242 [==============================] - 4s 1ms/step - loss: 0.5778 - acc: 0.7751\n",
      "Epoch 9/10\n",
      "3242/3242 [==============================] - 3s 1ms/step - loss: 0.5651 - acc: 0.7776\n",
      "Epoch 10/10\n",
      "3242/3242 [==============================] - 3s 990us/step - loss: 0.5558 - acc: 0.7807\n",
      "Epoch 1/10\n",
      "3243/3243 [==============================] - 4s 1ms/step - loss: 0.9484 - acc: 0.5945\n",
      "Epoch 2/10\n",
      "3243/3243 [==============================] - 3s 992us/step - loss: 0.8350 - acc: 0.6115 0s - loss: 0.8469\n",
      "Epoch 3/10\n",
      "3243/3243 [==============================] - 4s 1ms/step - loss: 0.7549 - acc: 0.6667\n",
      "Epoch 4/10\n",
      "3243/3243 [==============================] - 4s 1ms/step - loss: 0.7128 - acc: 0.6879\n",
      "Epoch 5/10\n",
      "3243/3243 [==============================] - 3s 1ms/step - loss: 0.6910 - acc: 0.6953\n",
      "Epoch 6/10\n",
      "3243/3243 [==============================] - 4s 1ms/step - loss: 0.6559 - acc: 0.7160\n",
      "Epoch 7/10\n",
      "3243/3243 [==============================] - 4s 1ms/step - loss: 0.6154 - acc: 0.7465\n",
      "Epoch 8/10\n",
      "3243/3243 [==============================] - 4s 1ms/step - loss: 0.6005 - acc: 0.7573\n",
      "Epoch 9/10\n",
      "3243/3243 [==============================] - 3s 1ms/step - loss: 0.5768 - acc: 0.7647\n",
      "Epoch 10/10\n",
      "3243/3243 [==============================] - 3s 1ms/step - loss: 0.5495 - acc: 0.7761\n",
      "Epoch 1/10\n",
      "3243/3243 [==============================] - 4s 1ms/step - loss: 0.9540 - acc: 0.5985\n",
      "Epoch 2/10\n",
      "3243/3243 [==============================] - 4s 1ms/step - loss: 0.8446 - acc: 0.6059\n",
      "Epoch 3/10\n",
      "3243/3243 [==============================] - 3s 1ms/step - loss: 0.7611 - acc: 0.6623\n",
      "Epoch 4/10\n",
      "3243/3243 [==============================] - 3s 1ms/step - loss: 0.7280 - acc: 0.6809\n",
      "Epoch 5/10\n",
      "3243/3243 [==============================] - 4s 1ms/step - loss: 0.6894 - acc: 0.7009\n",
      "Epoch 6/10\n",
      "3243/3243 [==============================] - 4s 1ms/step - loss: 0.6448 - acc: 0.7262\n",
      "Epoch 7/10\n",
      "3243/3243 [==============================] - 4s 1ms/step - loss: 0.6069 - acc: 0.7431\n",
      "Epoch 8/10\n",
      "3243/3243 [==============================] - 4s 1ms/step - loss: 0.5975 - acc: 0.7481\n",
      "Epoch 9/10\n",
      "3243/3243 [==============================] - 4s 1ms/step - loss: 0.5650 - acc: 0.7678\n",
      "Epoch 10/10\n",
      "3243/3243 [==============================] - 4s 1ms/step - loss: 0.5427 - acc: 0.7795\n",
      "Epoch 1/10\n",
      "3243/3243 [==============================] - 4s 1ms/step - loss: 0.9561 - acc: 0.5896\n",
      "Epoch 2/10\n",
      "3243/3243 [==============================] - 4s 1ms/step - loss: 0.8564 - acc: 0.6031\n",
      "Epoch 3/10\n",
      "3243/3243 [==============================] - 4s 1ms/step - loss: 0.7699 - acc: 0.6586\n",
      "Epoch 4/10\n",
      "3243/3243 [==============================] - 3s 1ms/step - loss: 0.7238 - acc: 0.6824\n",
      "Epoch 5/10\n",
      "3243/3243 [==============================] - 4s 1ms/step - loss: 0.6921 - acc: 0.7012\n",
      "Epoch 6/10\n",
      "3243/3243 [==============================] - 4s 1ms/step - loss: 0.6570 - acc: 0.7234\n",
      "Epoch 7/10\n",
      "3243/3243 [==============================] - 4s 1ms/step - loss: 0.6266 - acc: 0.7376\n",
      "Epoch 8/10\n",
      "3243/3243 [==============================] - 4s 1ms/step - loss: 0.6015 - acc: 0.7582\n",
      "Epoch 9/10\n",
      "3243/3243 [==============================] - 3s 1ms/step - loss: 0.5857 - acc: 0.7579\n",
      "Epoch 10/10\n",
      "3243/3243 [==============================] - 4s 1ms/step - loss: 0.5602 - acc: 0.7795\n",
      "Epoch 1/10\n",
      "3243/3243 [==============================] - 5s 1ms/step - loss: 0.9547 - acc: 0.5933\n",
      "Epoch 2/10\n",
      "3243/3243 [==============================] - 4s 1ms/step - loss: 0.8460 - acc: 0.6022\n",
      "Epoch 3/10\n",
      "3243/3243 [==============================] - 4s 1ms/step - loss: 0.7810 - acc: 0.6491\n",
      "Epoch 4/10\n"
     ]
    },
    {
     "name": "stdout",
     "output_type": "stream",
     "text": [
      "3243/3243 [==============================] - 4s 1ms/step - loss: 0.7292 - acc: 0.6827\n",
      "Epoch 5/10\n",
      "3243/3243 [==============================] - 4s 1ms/step - loss: 0.6853 - acc: 0.7092\n",
      "Epoch 6/10\n",
      "3243/3243 [==============================] - 4s 1ms/step - loss: 0.6436 - acc: 0.7299\n",
      "Epoch 7/10\n",
      "3243/3243 [==============================] - 4s 1ms/step - loss: 0.6132 - acc: 0.7394\n",
      "Epoch 8/10\n",
      "3243/3243 [==============================] - 4s 1ms/step - loss: 0.6048 - acc: 0.7515\n",
      "Epoch 9/10\n",
      "3243/3243 [==============================] - 4s 1ms/step - loss: 0.5860 - acc: 0.7619\n",
      "Epoch 10/10\n",
      "3243/3243 [==============================] - 4s 1ms/step - loss: 0.5550 - acc: 0.7764\n",
      "Epoch 1/10\n",
      "3243/3243 [==============================] - 4s 1ms/step - loss: 0.9516 - acc: 0.5970\n",
      "Epoch 2/10\n",
      "3243/3243 [==============================] - 4s 1ms/step - loss: 0.8530 - acc: 0.6041\n",
      "Epoch 3/10\n",
      "3243/3243 [==============================] - 4s 1ms/step - loss: 0.7687 - acc: 0.6528\n",
      "Epoch 4/10\n",
      "3243/3243 [==============================] - 4s 1ms/step - loss: 0.7260 - acc: 0.6910\n",
      "Epoch 5/10\n",
      "3243/3243 [==============================] - 4s 1ms/step - loss: 0.6885 - acc: 0.7219\n",
      "Epoch 6/10\n",
      "3243/3243 [==============================] - 4s 1ms/step - loss: 0.6462 - acc: 0.7342\n",
      "Epoch 7/10\n",
      "3243/3243 [==============================] - 4s 1ms/step - loss: 0.6057 - acc: 0.7533\n",
      "Epoch 8/10\n",
      "3243/3243 [==============================] - 4s 1ms/step - loss: 0.5824 - acc: 0.7641\n",
      "Epoch 9/10\n",
      "3243/3243 [==============================] - 4s 1ms/step - loss: 0.5700 - acc: 0.7743\n",
      "Epoch 10/10\n",
      "3243/3243 [==============================] - 4s 1ms/step - loss: 0.5407 - acc: 0.7906\n",
      "Run Time:  6.1455356689997975\n"
     ]
    }
   ],
   "source": [
    "import timeit\n",
    "\n",
    "start = timeit.default_timer()\n",
    "print(start)\n",
    "y_pred_ma = cross_val_predict(model, X, Y, cv=kfold)\n",
    "\n",
    "stop = timeit.default_timer()\n",
    "\n",
    "print(\"Run Time: \", (stop - start)/60)"
   ]
  },
  {
   "cell_type": "code",
   "execution_count": 8,
   "metadata": {},
   "outputs": [
    {
     "name": "stdout",
     "output_type": "stream",
     "text": [
      "0.756246529705719\n"
     ]
    }
   ],
   "source": [
    "from sklearn.metrics import accuracy_score, classification_report\n",
    "mod_accuracy = accuracy_score(Y, y_pred_ma)\n",
    "print(mod_accuracy)"
   ]
  },
  {
   "cell_type": "code",
   "execution_count": 9,
   "metadata": {},
   "outputs": [
    {
     "name": "stdout",
     "output_type": "stream",
     "text": [
      "Pr, Re scores wrt each class\n",
      "             precision    recall  f1-score   support\n",
      "\n",
      "          0       0.65      0.62      0.64       805\n",
      "          1       0.60      0.37      0.45       633\n",
      "         -1       0.81      0.92      0.86      2164\n",
      "\n",
      "avg / total       0.74      0.76      0.74      3602\n",
      "\n",
      "\n",
      "\n",
      "Model Accuracy is: 75.6247%\n",
      "\n",
      "\n",
      "Precision Score is: 73.9817%\n",
      "\n",
      "\n",
      "Recall Score is: 75.6247%\n",
      "\n",
      "\n",
      "F1-Score is: 74.1072%\n"
     ]
    }
   ],
   "source": [
    "from sklearn.metrics import accuracy_score, classification_report\n",
    "from sklearn.metrics import precision_score\n",
    "from sklearn.metrics import recall_score\n",
    "from sklearn.metrics import f1_score\n",
    "\n",
    "t_precision = precision_score(Y, y_pred_ma, average='weighted')\n",
    "t_recall = recall_score(Y, y_pred_ma, average='weighted')\n",
    "t_f1_score = f1_score(Y, y_pred_ma, average='weighted')\n",
    "\n",
    "target_names = ['0', '1', '-1']\n",
    "print('Pr, Re scores wrt each class')\n",
    "print(classification_report(Y, y_pred_ma, target_names=target_names))\n",
    "\n",
    "print('\\n\\nModel Accuracy is: {:.4%}' .format(mod_accuracy))\n",
    "print('\\n\\nPrecision Score is: {:.4%}' .format(t_precision))\n",
    "print('\\n\\nRecall Score is: {:.4%}' .format(t_recall))\n",
    "print('\\n\\nF1-Score is: {:.4%}' .format(t_f1_score))\n"
   ]
  },
  {
   "cell_type": "code",
   "execution_count": null,
   "metadata": {},
   "outputs": [],
   "source": []
  }
 ],
 "metadata": {
  "kernelspec": {
   "display_name": "Python 3",
   "language": "python",
   "name": "python3"
  },
  "language_info": {
   "codemirror_mode": {
    "name": "ipython",
    "version": 3
   },
   "file_extension": ".py",
   "mimetype": "text/x-python",
   "name": "python",
   "nbconvert_exporter": "python",
   "pygments_lexer": "ipython3",
   "version": "3.5.5"
  }
 },
 "nbformat": 4,
 "nbformat_minor": 2
}
