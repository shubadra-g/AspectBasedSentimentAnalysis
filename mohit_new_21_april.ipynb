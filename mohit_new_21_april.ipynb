{
 "cells": [
  {
   "cell_type": "code",
   "execution_count": 5,
   "metadata": {
    "collapsed": true
   },
   "outputs": [],
   "source": [
    "from nltk.corpus import stopwords\n",
    "from nltk.tokenize import word_tokenize\n",
    "from nltk import pos_tag\n",
    "import numpy as np"
   ]
  },
  {
   "cell_type": "code",
   "execution_count": 2,
   "metadata": {
    "collapsed": true
   },
   "outputs": [],
   "source": [
    "file_name = 'project_2_train/' + 'data 2_train.csv'\n",
    "# stopwords_set = set(stopwords.words('english'))\n",
    "stopwords_set = {'i', 'shan', 'just', 'how', 'each', 'out', 'themselves', 'their', 'before', 'were', 'very', 'as', 'further', 'his', 'a', 'once', 'youve', 'y', 'is', 'shouldve', 'youll', 'on', 'd', 'm', 'under', 'haven', 'which', 'only', 'them', 'was', 'by', 'needn', 'whom', 'that', 'when', 's', 'isn', 'its', 'no', 'wasn', 'in', 'we', 'theirs', 'those', 'this', 'having', 'and', 'ain', 'most', 'up', 'off', 'being', 'aren', 'shouldn', 'ourselves', 'from', 'down', 'herself', 'her', 'you', 'are', 'its', 'who', 'the', 'here', 'where', 'your', 'youd', 'she', 'didn', 'weren', 'about', 'has', 'our', 'an', 'yourselves', 'or', 'hasn', 'again', 'while', 'does', 'him', 'shes', 'above', 'below', 'itself', 'to', 'through', 'will', 'couldn', 'hers', 'they', 'doing', 'because', 'he', 'what', 'such', 'youre', 'nor', 'too', 'should', 'ours', 'then', 'himself', 'all', 'of', 'mightn', 'between', 'now', 'against', 'some', 'with', 'until', 'am', 'other', 'at', 'can', 'over', 'mustn', 'wouldn', 'do', 'for', 'after', 'hadn', 'me', 'been', 'same', 'doesn', 'my', 'these', 'll', 'did', 'had', 'it', 'so', 'ma', 'during', 'than', 'o', 'yourself', 'own', 'have', 're', 've', 'be', 'why', 't', 'there', 'more', 'won', 'yours', 'few', 'into', 'thatll', 'any', 'myself', 'both', 'don', 'if'}"
   ]
  },
  {
   "cell_type": "code",
   "execution_count": 4,
   "metadata": {},
   "outputs": [],
   "source": [
    "file_obj = open(file_name, 'r')"
   ]
  },
  {
   "cell_type": "code",
   "execution_count": 6,
   "metadata": {},
   "outputs": [
    {
     "name": "stdout",
     "output_type": "stream",
     "text": [
      "[('But', 'CC'), ('the', 'DT'), ('staff', 'NN'), ('was', 'VBD'), ('so', 'RB'), ('horrible', 'JJ'), ('to', 'TO'), ('us', 'PRP'), ('.', '.')]\n",
      "[('To', 'TO'), ('be', 'VB'), ('completely', 'RB'), ('fair', 'JJ'), (',', ','), ('the', 'DT'), ('only', 'JJ'), ('redeeming', 'NN'), ('factor', 'NN'), ('was', 'VBD'), ('the', 'DT'), ('food', 'NN'), (',', ','), ('which', 'WDT'), ('was', 'VBD'), ('above', 'IN'), ('average', 'NN'), (',', ','), ('but', 'CC'), ('could', 'MD'), (\"n't\", 'RB'), ('make', 'VB'), ('up', 'RP'), ('for', 'IN'), ('all', 'PDT'), ('the', 'DT'), ('other', 'JJ'), ('deficiencies', 'NNS'), ('of', 'IN'), ('Teodora', 'NNP'), ('.', '.')]\n",
      "[('The', 'DT'), ('food', 'NN'), ('is', 'VBZ'), ('uniformly', 'JJ'), ('exceptional', 'JJ'), (',', ','), ('with', 'IN'), ('a', 'DT'), ('very', 'RB'), ('capable', 'JJ'), ('kitchen', 'NN'), ('which', 'WDT'), ('will', 'MD'), ('proudly', 'RB'), ('whip', 'VB'), ('up', 'RP'), ('whatever', 'WDT'), ('you', 'PRP'), ('feel', 'VBP'), ('like', 'IN'), ('eating', 'NN'), (',', ','), ('whether', 'IN'), ('it', 'PRP'), (\"'s\", 'VBZ'), ('on', 'IN'), ('the', 'DT'), ('menu', 'NN'), ('or', 'CC'), ('not', 'RB'), ('.', '.')]\n",
      "[('The', 'DT'), ('food', 'NN'), ('is', 'VBZ'), ('uniformly', 'JJ'), ('exceptional', 'JJ'), (',', ','), ('with', 'IN'), ('a', 'DT'), ('very', 'RB'), ('capable', 'JJ'), ('kitchen', 'NN'), ('which', 'WDT'), ('will', 'MD'), ('proudly', 'RB'), ('whip', 'VB'), ('up', 'RP'), ('whatever', 'WDT'), ('you', 'PRP'), ('feel', 'VBP'), ('like', 'IN'), ('eating', 'NN'), (',', ','), ('whether', 'IN'), ('it', 'PRP'), (\"'s\", 'VBZ'), ('on', 'IN'), ('the', 'DT'), ('menu', 'NN'), ('or', 'CC'), ('not', 'RB'), ('.', '.')]\n",
      "[('The', 'DT'), ('food', 'NN'), ('is', 'VBZ'), ('uniformly', 'JJ'), ('exceptional', 'JJ'), (',', ','), ('with', 'IN'), ('a', 'DT'), ('very', 'RB'), ('capable', 'JJ'), ('kitchen', 'NN'), ('which', 'WDT'), ('will', 'MD'), ('proudly', 'RB'), ('whip', 'VB'), ('up', 'RP'), ('whatever', 'WDT'), ('you', 'PRP'), ('feel', 'VBP'), ('like', 'IN'), ('eating', 'NN'), (',', ','), ('whether', 'IN'), ('it', 'PRP'), (\"'s\", 'VBZ'), ('on', 'IN'), ('the', 'DT'), ('menu', 'NN'), ('or', 'CC'), ('not', 'RB'), ('.', '.')]\n",
      "[('Not', 'RB'), ('only', 'RB'), ('was', 'VBD'), ('the', 'DT'), ('food', 'NN'), ('outstanding', 'JJ'), (',', ','), ('but', 'CC'), ('the', 'DT'), ('little', 'JJ'), (\"'perks\", 'NNS'), (\"'\", 'POS'), ('were', 'VBD'), ('great', 'JJ'), ('.', '.')]\n",
      "[('Not', 'RB'), ('only', 'RB'), ('was', 'VBD'), ('the', 'DT'), ('food', 'NN'), ('outstanding', 'JJ'), (',', ','), ('but', 'CC'), ('the', 'DT'), ('little', 'JJ'), (\"'perks\", 'NNS'), (\"'\", 'POS'), ('were', 'VBD'), ('great', 'JJ'), ('.', '.')]\n",
      "[('Our', 'PRP$'), ('agreed', 'VBD'), ('favorite', 'NN'), ('is', 'VBZ'), ('the', 'DT'), ('orrechiete', 'JJ'), ('with', 'IN'), ('sausage', 'NN'), ('and', 'CC'), ('chicken', 'NN'), ('(', '('), ('usually', 'RB'), ('the', 'DT'), ('waiters', 'NNS'), ('are', 'VBP'), ('kind', 'NN'), ('enough', 'JJ'), ('to', 'TO'), ('split', 'VB'), ('the', 'DT'), ('dish', 'NN'), ('in', 'IN'), ('half', 'NN'), ('so', 'IN'), ('you', 'PRP'), ('get', 'VBP'), ('to', 'TO'), ('sample', 'VB'), ('both', 'DT'), ('meats', 'NNS'), (')', ')'), ('.', '.')]\n",
      "[('Our', 'PRP$'), ('agreed', 'VBD'), ('favorite', 'NN'), ('is', 'VBZ'), ('the', 'DT'), ('orrechiete', 'JJ'), ('with', 'IN'), ('sausage', 'NN'), ('and', 'CC'), ('chicken', 'NN'), ('(', '('), ('usually', 'RB'), ('the', 'DT'), ('waiters', 'NNS'), ('are', 'VBP'), ('kind', 'NN'), ('enough', 'JJ'), ('to', 'TO'), ('split', 'VB'), ('the', 'DT'), ('dish', 'NN'), ('in', 'IN'), ('half', 'NN'), ('so', 'IN'), ('you', 'PRP'), ('get', 'VBP'), ('to', 'TO'), ('sample', 'VB'), ('both', 'DT'), ('meats', 'NNS'), (')', ')'), ('.', '.')]\n",
      "[('Our', 'PRP$'), ('agreed', 'VBD'), ('favorite', 'NN'), ('is', 'VBZ'), ('the', 'DT'), ('orrechiete', 'JJ'), ('with', 'IN'), ('sausage', 'NN'), ('and', 'CC'), ('chicken', 'NN'), ('(', '('), ('usually', 'RB'), ('the', 'DT'), ('waiters', 'NNS'), ('are', 'VBP'), ('kind', 'NN'), ('enough', 'JJ'), ('to', 'TO'), ('split', 'VB'), ('the', 'DT'), ('dish', 'NN'), ('in', 'IN'), ('half', 'NN'), ('so', 'IN'), ('you', 'PRP'), ('get', 'VBP'), ('to', 'TO'), ('sample', 'VB'), ('both', 'DT'), ('meats', 'NNS'), (')', ')'), ('.', '.')]\n"
     ]
    }
   ],
   "source": [
    "for line_index, line in enumerate(file_obj):\n",
    "    if line_index != 0:\n",
    "        ''' Splitting the columns based on comma - since it is csv'''\n",
    "        columns = line.split(',')\n",
    "\n",
    "        ''' The comma in the actual sentence was represented as [commma] because of csv format, replace that '''\n",
    "        columns[1] = columns[1].replace('[comma]', ',')\n",
    "        columns[2] = columns[2].replace('[comma]', ',')\n",
    "\n",
    "        ''' Some aspect terms are mic in the sentence where computer/mic is present '''\n",
    "        columns[1] = columns[1].replace('-', ' ')\n",
    "        columns[2] = columns[2].replace('-', ' ')\n",
    "        columns[1] = columns[1].replace('/', ' ')\n",
    "        columns[2] = columns[2].replace('/', ' ')\n",
    "        \n",
    "        '''Tokenize the words'''\n",
    "        columns[1] = word_tokenize(columns[1])\n",
    "        columns[2] = word_tokenize(columns[2])\n",
    "        pos_tagged_sentence = pos_tag(columns[1])\n",
    "        \n",
    "        print(pos_tagged_sentence)\n",
    "    \n",
    "    if line_index == 10:\n",
    "        break\n",
    "        pass\n",
    "        \n",
    "        "
   ]
  },
  {
   "cell_type": "code",
   "execution_count": null,
   "metadata": {
    "collapsed": true
   },
   "outputs": [],
   "source": [
    "file_obj.close()"
   ]
  }
 ],
 "metadata": {
  "kernelspec": {
   "display_name": "Python 3",
   "language": "python",
   "name": "python3"
  },
  "language_info": {
   "codemirror_mode": {
    "name": "ipython",
    "version": 3
   },
   "file_extension": ".py",
   "mimetype": "text/x-python",
   "name": "python",
   "nbconvert_exporter": "python",
   "pygments_lexer": "ipython3",
   "version": "3.6.3"
  }
 },
 "nbformat": 4,
 "nbformat_minor": 2
}
