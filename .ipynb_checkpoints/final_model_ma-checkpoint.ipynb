{
 "cells": [
  {
   "cell_type": "code",
   "execution_count": 1,
   "metadata": {},
   "outputs": [
    {
     "name": "stdout",
     "output_type": "stream",
     "text": [
      "success\n",
      "(3602, 3614)\n",
      "(3602, 3613)\n"
     ]
    },
    {
     "data": {
      "text/plain": [
       "'hello world'"
      ]
     },
     "execution_count": 1,
     "metadata": {},
     "output_type": "execute_result"
    }
   ],
   "source": [
    "import pandas as pd\n",
    "from sklearn import svm\n",
    "import numpy as np\n",
    "\n",
    "from sklearn.model_selection import KFold, train_test_split\n",
    "from sklearn.metrics import accuracy_score, classification_report\n",
    "# from sklearn.metrics import accuracy_score\n",
    "import pickle\n",
    "from sklearn.metrics import precision_score\n",
    "from sklearn.metrics import recall_score\n",
    "from sklearn.metrics import f1_score\n",
    "from sklearn.model_selection import cross_validate, cross_val_predict\n",
    "from sklearn.metrics.scorer import make_scorer\n",
    "from sklearn.metrics import confusion_matrix\n",
    "from sklearn import metrics\n",
    "print('success')\n",
    "'hello world'\n",
    "\n",
    "'''Load data set'''\n",
    "df1 = pd.read_csv(\"weightxy_data2.csv\")\n",
    "print(df1.shape)\n",
    "print(df1.iloc[:,:-1].shape)\n",
    "'hello world'"
   ]
  },
  {
   "cell_type": "code",
   "execution_count": 2,
   "metadata": {},
   "outputs": [
    {
     "name": "stderr",
     "output_type": "stream",
     "text": [
      "Using TensorFlow backend.\n"
     ]
    }
   ],
   "source": [
    "from keras.models import Sequential\n",
    "from keras.layers import Dense\n",
    "from keras.layers import Dropout\n",
    "from keras.wrappers.scikit_learn import KerasClassifier\n",
    "from keras.utils import np_utils\n",
    "from keras.constraints import maxnorm\n",
    "from sklearn.model_selection import cross_val_score\n",
    "from sklearn.model_selection import KFold, train_test_split\n",
    "from sklearn.preprocessing import LabelEncoder\n",
    "from sklearn.pipeline import Pipeline\n",
    "from keras.wrappers.scikit_learn import KerasClassifier\n",
    "from sklearn.model_selection import StratifiedKFold\n",
    "from sklearn.model_selection import cross_val_score"
   ]
  },
  {
   "cell_type": "code",
   "execution_count": 3,
   "metadata": {},
   "outputs": [
    {
     "data": {
      "text/plain": [
       "'running on cpu'"
      ]
     },
     "execution_count": 3,
     "metadata": {},
     "output_type": "execute_result"
    }
   ],
   "source": [
    "import tensorflow as tf\n",
    "from keras import backend as K\n",
    "\n",
    "num_cores = 4\n",
    "\n",
    "CPU = True\n",
    "GPU = False\n",
    "\n",
    "if GPU:\n",
    "    num_GPU = 1\n",
    "    num_CPU = 1\n",
    "if CPU:\n",
    "    num_CPU = 1\n",
    "    num_GPU = 0\n",
    "\n",
    "\n",
    "config = tf.ConfigProto(intra_op_parallelism_threads=num_cores,\\\n",
    "        inter_op_parallelism_threads=num_cores, allow_soft_placement=True,\\\n",
    "        device_count = {'CPU' : num_CPU, 'GPU' : num_GPU})\n",
    "session = tf.Session(config=config)\n",
    "K.set_session(session)\n",
    "\n",
    "'running on cpu'"
   ]
  },
  {
   "cell_type": "code",
   "execution_count": 4,
   "metadata": {},
   "outputs": [
    {
     "name": "stdout",
     "output_type": "stream",
     "text": [
      "[-1  0  1]\n",
      "-1\n",
      "[0 2 2 ... 1 1 1]\n"
     ]
    }
   ],
   "source": [
    "seed = 7\n",
    "np.random.seed(seed)\n",
    "\n",
    "X, Y = df1.drop(['class_'], axis = 1), df1['class_']\n",
    "\n",
    "encoder = LabelEncoder()\n",
    "# print(encoder.classes_)\n",
    "\n",
    "encoder.fit(Y)\n",
    "print(encoder.classes_)\n",
    "print(Y[0])\n",
    "encoded_Y = encoder.transform(Y)\n",
    "print(encoded_Y)\n",
    "# convert integers to dummy variables (i.e. one hot encoded)\n",
    "dummy_y = np_utils.to_categorical(encoded_Y)"
   ]
  },
  {
   "cell_type": "code",
   "execution_count": 5,
   "metadata": {},
   "outputs": [
    {
     "data": {
      "text/plain": [
       "'success'"
      ]
     },
     "execution_count": 5,
     "metadata": {},
     "output_type": "execute_result"
    }
   ],
   "source": [
    "def create_model():\n",
    "    # create model\n",
    "    model = Sequential()\n",
    "    \n",
    "    model.add(Dropout(0.5, input_shape=(X.shape[1],)))\n",
    "    model.add(Dense(100, kernel_initializer='normal', activation='relu', kernel_constraint=maxnorm(3)))\n",
    "    \n",
    "    model.add(Dropout(0.5))\n",
    "    model.add(Dense(50, kernel_initializer='normal', activation='relu', kernel_constraint=maxnorm(3)))\n",
    "    model.add(Dropout(0.5))\n",
    "    model.add(Dense(3, kernel_initializer='normal', activation='sigmoid'))\n",
    "    \n",
    "    model.compile(loss='categorical_crossentropy', optimizer='adam', metrics=['accuracy'])\n",
    "    return model\n",
    "\n",
    "model = KerasClassifier(build_fn=create_model, epochs=10, batch_size=10, verbose=0)\n",
    "kfold = StratifiedKFold(n_splits=10, shuffle=True, random_state=seed)\n",
    "\n",
    "'success'"
   ]
  },
  {
   "cell_type": "code",
   "execution_count": 6,
   "metadata": {},
   "outputs": [
    {
     "name": "stdout",
     "output_type": "stream",
     "text": [
      "Epoch 1/10\n",
      "3602/3602 [==============================] - 5s 2ms/step - loss: 0.9467 - acc: 0.5952\n",
      "Epoch 2/10\n",
      "3602/3602 [==============================] - 5s 1ms/step - loss: 0.8298 - acc: 0.6141\n",
      "Epoch 3/10\n",
      "3602/3602 [==============================] - 5s 1ms/step - loss: 0.7704 - acc: 0.6630\n",
      "Epoch 4/10\n",
      "3602/3602 [==============================] - 5s 1ms/step - loss: 0.7046 - acc: 0.7049\n",
      "Epoch 5/10\n",
      "3602/3602 [==============================] - 5s 1ms/step - loss: 0.6714 - acc: 0.7243\n",
      "Epoch 6/10\n",
      "3602/3602 [==============================] - 5s 1ms/step - loss: 0.6355 - acc: 0.7254\n",
      "Epoch 7/10\n",
      "3602/3602 [==============================] - 5s 1ms/step - loss: 0.6057 - acc: 0.7521\n",
      "Epoch 8/10\n",
      "3602/3602 [==============================] - 4s 1ms/step - loss: 0.5981 - acc: 0.7557\n",
      "Epoch 9/10\n",
      "3602/3602 [==============================] - 4s 1ms/step - loss: 0.5589 - acc: 0.7718\n",
      "Epoch 10/10\n",
      "3602/3602 [==============================] - 5s 1ms/step - loss: 0.5409 - acc: 0.7765\n"
     ]
    },
    {
     "data": {
      "text/plain": [
       "'Model fitted successfully'"
      ]
     },
     "execution_count": 6,
     "metadata": {},
     "output_type": "execute_result"
    }
   ],
   "source": [
    "nn_model=create_model()\n",
    "nn_model.fit(X, dummy_y,batch_size = 10, epochs = 10)\n",
    "'Model fitted successfully'"
   ]
  },
  {
   "cell_type": "code",
   "execution_count": 7,
   "metadata": {},
   "outputs": [
    {
     "name": "stdout",
     "output_type": "stream",
     "text": [
      "(1120, 3613)\n"
     ]
    }
   ],
   "source": [
    "'''Load data set'''\n",
    "test_df1 = pd.read_csv(\"final_test2.csv\")\n",
    "test_X = test_df1\n",
    "print(test_X.shape)\n"
   ]
  },
  {
   "cell_type": "code",
   "execution_count": 8,
   "metadata": {},
   "outputs": [],
   "source": [
    "# test_X, test_Y = test_df1.drop(['class_'], axis = 1), test_df1['class_']\n",
    "\n",
    "# encoded_test_Y = encoder.transform(test_Y)\n",
    "# print(encoded_test_Y)\n",
    "# # convert integers to dummy variables (i.e. one hot encoded)\n",
    "# dummy_test_y = np_utils.to_categorical(encoded_test_Y)"
   ]
  },
  {
   "cell_type": "code",
   "execution_count": 9,
   "metadata": {},
   "outputs": [],
   "source": [
    "predicted_test_y = nn_model.predict(test_X)"
   ]
  },
  {
   "cell_type": "code",
   "execution_count": 10,
   "metadata": {},
   "outputs": [
    {
     "name": "stdout",
     "output_type": "stream",
     "text": [
      "(1120, 3)\n"
     ]
    },
    {
     "data": {
      "text/plain": [
       "'success'"
      ]
     },
     "execution_count": 10,
     "metadata": {},
     "output_type": "execute_result"
    }
   ],
   "source": [
    "y_pred = np.zeros_like(predicted_test_y)\n",
    "print(y_pred.shape)\n",
    "\n",
    "for pred_index, pred_val in enumerate(predicted_test_y):\n",
    "    y_pred[pred_index][np.argmax(pred_val).item()] = 1\n",
    "\n",
    "'success'"
   ]
  },
  {
   "cell_type": "code",
   "execution_count": 11,
   "metadata": {},
   "outputs": [
    {
     "name": "stdout",
     "output_type": "stream",
     "text": [
      "(1120,)\n"
     ]
    }
   ],
   "source": [
    "y_pred_label = np.array([0]*y_pred.shape[0])\n",
    "# y_test_label = np.array([0]*y_pred.shape[0])\n",
    "\n",
    "print(y_pred_label.shape)\n",
    "# print(y_test_label.shape)\n"
   ]
  },
  {
   "cell_type": "code",
   "execution_count": 12,
   "metadata": {},
   "outputs": [
    {
     "name": "stdout",
     "output_type": "stream",
     "text": [
      "(1120,)\n"
     ]
    }
   ],
   "source": [
    "for pred_index, pred_val in enumerate(y_pred):\n",
    "\n",
    "    if np.argmax(y_pred[pred_index]) == 0:\n",
    "        y_pred_label[pred_index] = -1\n",
    "    elif np.argmax(y_pred[pred_index]) == 1:\n",
    "        y_pred_label[pred_index] = 0    \n",
    "    else:\n",
    "        y_pred_label[pred_index] = 1\n",
    "    \n",
    "#     if np.argmax(dummy_test_y[pred_index]) == 0:\n",
    "#         y_test_label[pred_index] = -1\n",
    "#     elif np.argmax(dummy_test_y[pred_index]) == 1:\n",
    "#         y_test_label[pred_index] = 0    \n",
    "#     else:\n",
    "#         y_test_label[pred_index] = 1\n",
    "\n",
    "print(y_pred_label.shape)\n",
    "# print(y_test_label.shape)"
   ]
  },
  {
   "cell_type": "code",
   "execution_count": 13,
   "metadata": {},
   "outputs": [
    {
     "name": "stdout",
     "output_type": "stream",
     "text": [
      "[1 1 1 ... 1 1 1]\n"
     ]
    }
   ],
   "source": [
    "# print(y_test_label)\n",
    "print(y_pred_label)"
   ]
  },
  {
   "cell_type": "code",
   "execution_count": 14,
   "metadata": {},
   "outputs": [],
   "source": [
    "# from sklearn.metrics import accuracy_score, classification_report\n",
    "# mod_accuracy = accuracy_score(y_test_label, y_pred_label)\n",
    "# print(mod_accuracy)"
   ]
  },
  {
   "cell_type": "code",
   "execution_count": null,
   "metadata": {},
   "outputs": [],
   "source": [
    "fname = 'project_2_test/' + 'Data-2_test.csv'\n",
    "f = open(fname, 'r')\n",
    "output_file = 'Mohit_Adwani_Shubadra_Govindan_Data-2.txt'\n",
    "o_fname = open(output_file, 'w')\n",
    "line_count = 0\n",
    "for ind in f:\n",
    "    line_count += 1\n",
    "print(line_count)"
   ]
  },
  {
   "cell_type": "code",
   "execution_count": null,
   "metadata": {},
   "outputs": [],
   "source": [
    "f.close()"
   ]
  },
  {
   "cell_type": "code",
   "execution_count": null,
   "metadata": {},
   "outputs": [],
   "source": [
    "f = open(fname, 'r')"
   ]
  },
  {
   "cell_type": "code",
   "execution_count": null,
   "metadata": {},
   "outputs": [],
   "source": [
    "for i, line in enumerate(f):\n",
    "    if i != 0:\n",
    "      ''' Splitting the columns based on comma - since it is csv'''\n",
    "      columns = line.split(',')\n",
    "      # print(columns[0])\n",
    "      output_label = y_pred_label[i-1]\n",
    "      # print(i)\n",
    "      o_fname.write('%s' %(columns[0]) + ';;' + '%d' %(output_label))\n",
    "      if i != line_count - 1:\n",
    "        o_fname.write('\\n')\n",
    "f.close()\n",
    "o_fname.close()"
   ]
  },
  {
   "cell_type": "code",
   "execution_count": null,
   "metadata": {},
   "outputs": [],
   "source": []
  }
 ],
 "metadata": {
  "kernelspec": {
   "display_name": "Python 3",
   "language": "python",
   "name": "python3"
  },
  "language_info": {
   "codemirror_mode": {
    "name": "ipython",
    "version": 3
   },
   "file_extension": ".py",
   "mimetype": "text/x-python",
   "name": "python",
   "nbconvert_exporter": "python",
   "pygments_lexer": "ipython3",
   "version": "3.5.5"
  }
 },
 "nbformat": 4,
 "nbformat_minor": 2
}
