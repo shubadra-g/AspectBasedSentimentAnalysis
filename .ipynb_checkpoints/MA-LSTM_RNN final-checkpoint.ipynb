{
 "cells": [
  {
   "cell_type": "code",
   "execution_count": 1,
   "metadata": {},
   "outputs": [
    {
     "name": "stdout",
     "output_type": "stream",
     "text": [
      "success\n",
      "(2311, 2960)\n",
      "(2311, 2959)\n"
     ]
    },
    {
     "data": {
      "text/plain": [
       "'hello world'"
      ]
     },
     "execution_count": 1,
     "metadata": {},
     "output_type": "execute_result"
    }
   ],
   "source": [
    "import pandas as pd\n",
    "from pandas import DataFrame\n",
    "from sklearn import svm\n",
    "import numpy as np\n",
    "\n",
    "from sklearn.model_selection import KFold, train_test_split\n",
    "from sklearn.metrics import accuracy_score, classification_report\n",
    "# from sklearn.metrics import accuracy_score\n",
    "import pickle\n",
    "from sklearn.metrics import precision_score\n",
    "from sklearn.metrics import recall_score\n",
    "from sklearn.metrics import f1_score\n",
    "from sklearn.model_selection import cross_validate, cross_val_predict\n",
    "from sklearn.metrics.scorer import make_scorer\n",
    "from sklearn.metrics import confusion_matrix\n",
    "from sklearn import metrics\n",
    "print('success')\n",
    "'hello world'\n",
    "\n",
    "'''Load data set'''\n",
    "df1 = pd.read_csv(\"weightxy_data1.csv\")\n",
    "print(df1.shape)\n",
    "print(df1.iloc[:,:-1].shape)\n",
    "'hello world'\n",
    "\n"
   ]
  },
  {
   "cell_type": "code",
   "execution_count": 2,
   "metadata": {},
   "outputs": [
    {
     "name": "stderr",
     "output_type": "stream",
     "text": [
      "Using TensorFlow backend.\n"
     ]
    }
   ],
   "source": [
    "from keras.models import Sequential\n",
    "from keras.layers import Dense\n",
    "from keras.layers import Dropout\n",
    "from keras.wrappers.scikit_learn import KerasClassifier\n",
    "from keras.utils import np_utils\n",
    "from keras.constraints import maxnorm\n",
    "from sklearn.model_selection import cross_val_score\n",
    "from sklearn.model_selection import KFold, train_test_split\n",
    "from sklearn.preprocessing import LabelEncoder\n",
    "from sklearn.pipeline import Pipeline\n",
    "from keras.wrappers.scikit_learn import KerasClassifier\n",
    "from sklearn.model_selection import StratifiedKFold\n",
    "from sklearn.model_selection import cross_val_score\n",
    "\n",
    "from keras.layers import Embedding, LSTM\n",
    "from keras.layers.advanced_activations import PReLU\n",
    "from sklearn.metrics import precision_recall_fscore_support as score\n",
    "\n",
    "import tensorflow as tf\n"
   ]
  },
  {
   "cell_type": "code",
   "execution_count": 3,
   "metadata": {},
   "outputs": [],
   "source": [
    "from keras import backend as K\n",
    "num_cores = 4\n",
    "\n",
    "CPU = True\n",
    "GPU = False\n",
    "\n",
    "if GPU:\n",
    "    num_GPU = 1\n",
    "    num_CPU = 1\n",
    "if CPU:\n",
    "    num_CPU = 1\n",
    "    num_GPU = 0\n",
    "\n",
    "config = tf.ConfigProto(intra_op_parallelism_threads=num_cores,\\\n",
    "        inter_op_parallelism_threads=num_cores, allow_soft_placement=True,\\\n",
    "        device_count = {'CPU' : num_CPU, 'GPU' : num_GPU})\n",
    "session = tf.Session(config=config)\n",
    "K.set_session(session)"
   ]
  },
  {
   "cell_type": "code",
   "execution_count": 4,
   "metadata": {},
   "outputs": [
    {
     "name": "stdout",
     "output_type": "stream",
     "text": [
      "(1848, 2959)\n",
      "(463, 2959)\n",
      "(1848,)\n",
      "(463,)\n"
     ]
    }
   ],
   "source": [
    "# Train test split\n",
    "x_train, x_test, y_train, y_test = train_test_split(df1.drop(['class_'], axis = 1), df1['class_'], test_size = 0.2)\n",
    "# x_train, y_train = df1.drop(['class_'], axis = 1), df1['class_'] # comment this for 1 fold \n",
    "\n",
    "print(x_train.shape)\n",
    "print(x_test.shape)\n",
    "\n",
    "print(y_train.shape)\n",
    "print(y_test.shape)\n"
   ]
  },
  {
   "cell_type": "code",
   "execution_count": 5,
   "metadata": {},
   "outputs": [
    {
     "name": "stdout",
     "output_type": "stream",
     "text": [
      "(1848, 1, 2959)\n",
      "(463, 1, 2959)\n"
     ]
    }
   ],
   "source": [
    "x_train = x_train.values\n",
    "x_test = x_test.values\n",
    "\n",
    "x_train = x_train.reshape(x_train.shape[0], 1, x_train.shape[1])\n",
    "x_test = x_test.reshape(x_test.shape[0], 1, x_test.shape[1])\n",
    "\n",
    "print(x_train.shape)\n",
    "print(x_test.shape)\n",
    "\n"
   ]
  },
  {
   "cell_type": "code",
   "execution_count": 6,
   "metadata": {},
   "outputs": [
    {
     "name": "stdout",
     "output_type": "stream",
     "text": [
      "[-1  0  1]\n",
      "0\n",
      "(1848, 3)\n",
      "(463, 3)\n"
     ]
    }
   ],
   "source": [
    "seed = 7\n",
    "np.random.seed(seed)\n",
    "\n",
    "# X, Y = df1.drop(['class_'], axis = 1), df1['class_']\n",
    "# X, Y = df1_np, df1['class_']\n",
    "\n",
    "encoder = LabelEncoder()\n",
    "# print(encoder.classes_)\n",
    "\n",
    "encoder.fit(y_train)\n",
    "print(encoder.classes_)\n",
    "print(y_train[0])\n",
    "# encoded_y = encoder.transform(Y)\n",
    "\n",
    "encoded_y_train = encoder.transform(y_train)\n",
    "encoded_y_test = encoder.transform(y_test)\n",
    "\n",
    "# print(encoded_y_train.shape)\n",
    "# print(encoded_y_test.shape)\n",
    "# convert integers to dummy variables (i.e. one hot encoded)\n",
    "# dummy_y = np_utils.to_categorical(encoded_Y)\n",
    "encoded_y_train = np_utils.to_categorical(encoded_y_train)\n",
    "encoded_y_test = np_utils.to_categorical(encoded_y_test)\n",
    "\n",
    "print(encoded_y_train.shape)\n",
    "print(encoded_y_test.shape)"
   ]
  },
  {
   "cell_type": "code",
   "execution_count": 7,
   "metadata": {},
   "outputs": [
    {
     "name": "stdout",
     "output_type": "stream",
     "text": [
      "Train on 1663 samples, validate on 185 samples\n",
      "Epoch 1/6\n",
      "1663/1663 [==============================] - 22s 13ms/step - loss: 0.9329 - acc: 0.5731 - val_loss: 0.7540 - val_acc: 0.6973\n",
      "Epoch 2/6\n",
      "1663/1663 [==============================] - 21s 13ms/step - loss: 0.6951 - acc: 0.7246 - val_loss: 0.7514 - val_acc: 0.6811\n",
      "Epoch 3/6\n",
      "1663/1663 [==============================] - 21s 12ms/step - loss: 0.5750 - acc: 0.7733 - val_loss: 0.8256 - val_acc: 0.6973\n",
      "Epoch 4/6\n",
      "1663/1663 [==============================] - 21s 13ms/step - loss: 0.4593 - acc: 0.8172 - val_loss: 0.9539 - val_acc: 0.6378\n",
      "Epoch 5/6\n",
      "1663/1663 [==============================] - 21s 12ms/step - loss: 0.4371 - acc: 0.8244 - val_loss: 0.9654 - val_acc: 0.6757\n",
      "Epoch 6/6\n",
      "1663/1663 [==============================] - 21s 13ms/step - loss: 0.3852 - acc: 0.8406 - val_loss: 1.0144 - val_acc: 0.6811\n"
     ]
    },
    {
     "data": {
      "text/plain": [
       "'success'"
      ]
     },
     "execution_count": 7,
     "metadata": {},
     "output_type": "execute_result"
    }
   ],
   "source": [
    "def create_model():\n",
    "    # create model\n",
    "    model = Sequential()\n",
    "    \n",
    "    model.add(LSTM(128, input_shape=(1, x_train.shape[2]), dropout = 0.4, recurrent_dropout = 0.4))\n",
    "    \n",
    "    model.add(Dense(256, activation='linear'))\n",
    "    \n",
    "    model.add(Dropout(0.4))\n",
    "    \n",
    "    model.add(Dense(256, activation = 'linear'))\n",
    "    \n",
    "    model.add(Dropout(0.4))\n",
    "    \n",
    "    model.add(Dense(3, activation='sigmoid'))\n",
    "\n",
    "    model.compile(loss='categorical_crossentropy', optimizer='adam', metrics=['accuracy'])\n",
    "    return model\n",
    "\n",
    "# model = KerasClassifier(build_fn=create_model, epochs=10, batch_size=5)\n",
    "# kfold = StratifiedKFold(n_splits=10, shuffle=True, random_state=seed)\n",
    "lstm_model = create_model()\n",
    "lstm_model.fit(x_train, encoded_y_train, batch_size = 5, epochs = 6, validation_split = 0.1)\n",
    "# lstm_model.fit(x_train, encoded_y_train, batch_size = 5, epochs = 10, validation_data = (x_test, encoded_y_test))\n",
    "\n",
    "\n",
    "'success'"
   ]
  },
  {
   "cell_type": "code",
   "execution_count": 10,
   "metadata": {},
   "outputs": [
    {
     "name": "stdout",
     "output_type": "stream",
     "text": [
      "17.637069201717154\n",
      "Epoch 1/10\n",
      "3240/3240 [==============================] - 50s 15ms/step - loss: 0.8430 - acc: 0.6383\n",
      "Epoch 2/10\n",
      "3240/3240 [==============================] - 50s 15ms/step - loss: 0.6524 - acc: 0.7398\n",
      "Epoch 3/10\n",
      "3240/3240 [==============================] - 50s 15ms/step - loss: 0.5297 - acc: 0.7883\n",
      "Epoch 4/10\n",
      "3240/3240 [==============================] - 50s 15ms/step - loss: 0.4801 - acc: 0.8049\n",
      "Epoch 5/10\n",
      "3240/3240 [==============================] - 50s 15ms/step - loss: 0.4362 - acc: 0.8207\n",
      "Epoch 6/10\n",
      "3240/3240 [==============================] - 49s 15ms/step - loss: 0.3961 - acc: 0.8364\n",
      "Epoch 7/10\n",
      "3240/3240 [==============================] - 49s 15ms/step - loss: 0.3762 - acc: 0.8457\n",
      "Epoch 8/10\n",
      "3240/3240 [==============================] - 50s 15ms/step - loss: 0.3665 - acc: 0.8494\n",
      "Epoch 9/10\n",
      "3240/3240 [==============================] - 50s 15ms/step - loss: 0.3572 - acc: 0.8519\n",
      "Epoch 10/10\n",
      "3240/3240 [==============================] - 50s 15ms/step - loss: 0.3221 - acc: 0.8682\n",
      "Epoch 1/10\n",
      "3240/3240 [==============================] - 50s 15ms/step - loss: 0.8367 - acc: 0.6454 0s - loss: 0.8365 - acc\n",
      "Epoch 2/10\n",
      "3240/3240 [==============================] - 49s 15ms/step - loss: 0.6636 - acc: 0.7355\n",
      "Epoch 3/10\n",
      "3240/3240 [==============================] - 50s 16ms/step - loss: 0.5497 - acc: 0.7864\n",
      "Epoch 4/10\n",
      "3240/3240 [==============================] - 49s 15ms/step - loss: 0.4923 - acc: 0.8062\n",
      "Epoch 5/10\n",
      "3240/3240 [==============================] - 50s 15ms/step - loss: 0.4699 - acc: 0.8083\n",
      "Epoch 6/10\n",
      "3240/3240 [==============================] - 51s 16ms/step - loss: 0.4339 - acc: 0.8210\n",
      "Epoch 7/10\n",
      "3240/3240 [==============================] - 49s 15ms/step - loss: 0.4081 - acc: 0.8370\n",
      "Epoch 8/10\n",
      "3240/3240 [==============================] - 48s 15ms/step - loss: 0.3648 - acc: 0.8500\n",
      "Epoch 9/10\n",
      "3240/3240 [==============================] - 49s 15ms/step - loss: 0.3254 - acc: 0.8685\n",
      "Epoch 10/10\n",
      "3240/3240 [==============================] - 52s 16ms/step - loss: 0.3246 - acc: 0.8707\n",
      "Epoch 1/10\n",
      "3240/3240 [==============================] - 51s 16ms/step - loss: 0.8348 - acc: 0.6383 1s - loss\n",
      "Epoch 2/10\n",
      "3240/3240 [==============================] - 46s 14ms/step - loss: 0.6518 - acc: 0.7364\n",
      "Epoch 3/10\n",
      "3240/3240 [==============================] - 45s 14ms/step - loss: 0.5364 - acc: 0.7836 1s - loss: 0.\n",
      "Epoch 4/10\n",
      "3240/3240 [==============================] - 45s 14ms/step - loss: 0.4893 - acc: 0.8052\n",
      "Epoch 5/10\n",
      "3240/3240 [==============================] - 46s 14ms/step - loss: 0.4420 - acc: 0.8198\n",
      "Epoch 6/10\n",
      "3240/3240 [==============================] - 47s 15ms/step - loss: 0.4103 - acc: 0.8327\n",
      "Epoch 7/10\n",
      "3240/3240 [==============================] - 51s 16ms/step - loss: 0.3903 - acc: 0.8426\n",
      "Epoch 8/10\n",
      "3240/3240 [==============================] - 49s 15ms/step - loss: 0.3543 - acc: 0.8574\n",
      "Epoch 9/10\n",
      "3240/3240 [==============================] - 51s 16ms/step - loss: 0.3452 - acc: 0.8565\n",
      "Epoch 10/10\n",
      "3240/3240 [==============================] - 52s 16ms/step - loss: 0.3213 - acc: 0.8750 0s - loss: 0.3228 - acc: 0.\n",
      "Epoch 1/10\n",
      "3241/3241 [==============================] - 53s 16ms/step - loss: 0.8486 - acc: 0.6344\n",
      "Epoch 2/10\n",
      "3241/3241 [==============================] - 51s 16ms/step - loss: 0.6323 - acc: 0.7411\n",
      "Epoch 3/10\n",
      "3241/3241 [==============================] - 47s 15ms/step - loss: 0.5500 - acc: 0.7754\n",
      "Epoch 4/10\n",
      "3241/3241 [==============================] - 51s 16ms/step - loss: 0.4999 - acc: 0.8010\n",
      "Epoch 5/10\n",
      "3241/3241 [==============================] - 48s 15ms/step - loss: 0.4570 - acc: 0.8115\n",
      "Epoch 6/10\n",
      "3241/3241 [==============================] - 44s 13ms/step - loss: 0.4258 - acc: 0.8272\n",
      "Epoch 7/10\n",
      "3241/3241 [==============================] - 44s 13ms/step - loss: 0.4038 - acc: 0.8322\n",
      "Epoch 8/10\n",
      "3241/3241 [==============================] - 44s 13ms/step - loss: 0.3559 - acc: 0.8497\n",
      "Epoch 9/10\n",
      "3241/3241 [==============================] - 44s 13ms/step - loss: 0.3407 - acc: 0.8599\n",
      "Epoch 10/10\n",
      "3241/3241 [==============================] - 44s 13ms/step - loss: 0.3302 - acc: 0.8615\n",
      "Epoch 1/10\n",
      "3242/3242 [==============================] - 45s 14ms/step - loss: 0.8260 - acc: 0.6527\n",
      "Epoch 2/10\n",
      "3242/3242 [==============================] - 48s 15ms/step - loss: 0.6538 - acc: 0.7390\n",
      "Epoch 3/10\n",
      "3242/3242 [==============================] - 53s 16ms/step - loss: 0.5476 - acc: 0.7884\n",
      "Epoch 4/10\n",
      "3242/3242 [==============================] - 53s 16ms/step - loss: 0.4850 - acc: 0.8109\n",
      "Epoch 5/10\n",
      "3242/3242 [==============================] - 50s 15ms/step - loss: 0.4528 - acc: 0.8189\n",
      "Epoch 6/10\n",
      "3242/3242 [==============================] - 49s 15ms/step - loss: 0.4127 - acc: 0.8359\n",
      "Epoch 7/10\n",
      "3242/3242 [==============================] - 50s 15ms/step - loss: 0.4039 - acc: 0.8341\n",
      "Epoch 8/10\n",
      "3242/3242 [==============================] - 49s 15ms/step - loss: 0.3669 - acc: 0.8492\n",
      "Epoch 9/10\n",
      "3242/3242 [==============================] - 49s 15ms/step - loss: 0.3224 - acc: 0.8643\n",
      "Epoch 10/10\n",
      "3242/3242 [==============================] - 50s 15ms/step - loss: 0.3242 - acc: 0.8671\n",
      "Epoch 1/10\n",
      "3243/3243 [==============================] - 51s 16ms/step - loss: 0.8285 - acc: 0.6512\n",
      "Epoch 2/10\n",
      "3243/3243 [==============================] - 50s 16ms/step - loss: 0.6510 - acc: 0.7428\n",
      "Epoch 3/10\n",
      "3243/3243 [==============================] - 53s 16ms/step - loss: 0.5505 - acc: 0.7783\n",
      "Epoch 4/10\n",
      "3243/3243 [==============================] - 52s 16ms/step - loss: 0.4798 - acc: 0.8051\n",
      "Epoch 5/10\n",
      "3243/3243 [==============================] - 51s 16ms/step - loss: 0.4242 - acc: 0.8233\n",
      "Epoch 6/10\n",
      "3243/3243 [==============================] - 50s 15ms/step - loss: 0.4119 - acc: 0.8341 0s - loss: 0.4125 - acc: 0.8\n",
      "Epoch 7/10\n",
      "3243/3243 [==============================] - 50s 15ms/step - loss: 0.3901 - acc: 0.8384\n",
      "Epoch 8/10\n",
      "3243/3243 [==============================] - 50s 15ms/step - loss: 0.3682 - acc: 0.8495\n",
      "Epoch 9/10\n",
      "3243/3243 [==============================] - 50s 15ms/step - loss: 0.3258 - acc: 0.8628\n",
      "Epoch 10/10\n",
      "3243/3243 [==============================] - 50s 15ms/step - loss: 0.3135 - acc: 0.8717\n",
      "Epoch 1/10\n",
      "3243/3243 [==============================] - 52s 16ms/step - loss: 0.8457 - acc: 0.6398\n",
      "Epoch 2/10\n",
      "3243/3243 [==============================] - 54s 17ms/step - loss: 0.6328 - acc: 0.7413\n",
      "Epoch 3/10\n",
      "3243/3243 [==============================] - 55s 17ms/step - loss: 0.5451 - acc: 0.7789 6s - loss: 0.5454 - - ETA: 5s - loss:\n",
      "Epoch 4/10\n",
      "3243/3243 [==============================] - 53s 16ms/step - loss: 0.4763 - acc: 0.8036\n",
      "Epoch 5/10\n",
      "3243/3243 [==============================] - 57s 18ms/step - loss: 0.4444 - acc: 0.8202\n",
      "Epoch 6/10\n",
      "3243/3243 [==============================] - 51s 16ms/step - loss: 0.4123 - acc: 0.8313\n",
      "Epoch 7/10\n",
      "3243/3243 [==============================] - 51s 16ms/step - loss: 0.3621 - acc: 0.8508\n",
      "Epoch 8/10\n",
      "3243/3243 [==============================] - 57s 18ms/step - loss: 0.3502 - acc: 0.8575\n",
      "Epoch 9/10\n",
      "3243/3243 [==============================] - 53s 16ms/step - loss: 0.3434 - acc: 0.8603\n",
      "Epoch 10/10\n",
      "3243/3243 [==============================] - 46s 14ms/step - loss: 0.3038 - acc: 0.8757\n",
      "Epoch 1/10\n",
      "3243/3243 [==============================] - 57s 18ms/step - loss: 0.8441 - acc: 0.6389\n",
      "Epoch 2/10\n",
      "3243/3243 [==============================] - 53s 16ms/step - loss: 0.6454 - acc: 0.7419\n",
      "Epoch 3/10\n",
      "3243/3243 [==============================] - 52s 16ms/step - loss: 0.5366 - acc: 0.7925\n",
      "Epoch 4/10\n",
      "3243/3243 [==============================] - 51s 16ms/step - loss: 0.4842 - acc: 0.8020\n",
      "Epoch 5/10\n",
      "3243/3243 [==============================] - 50s 15ms/step - loss: 0.4638 - acc: 0.8141\n",
      "Epoch 6/10\n",
      "3243/3243 [==============================] - 50s 15ms/step - loss: 0.4036 - acc: 0.8366\n",
      "Epoch 7/10\n",
      "3243/3243 [==============================] - 50s 15ms/step - loss: 0.3821 - acc: 0.8421\n",
      "Epoch 8/10\n",
      "3243/3243 [==============================] - 50s 15ms/step - loss: 0.3629 - acc: 0.8471\n",
      "Epoch 9/10\n",
      "3243/3243 [==============================] - 50s 16ms/step - loss: 0.3394 - acc: 0.8551\n",
      "Epoch 10/10\n",
      "3243/3243 [==============================] - 54s 17ms/step - loss: 0.3313 - acc: 0.8637\n",
      "Epoch 1/10\n"
     ]
    },
    {
     "name": "stdout",
     "output_type": "stream",
     "text": [
      "3243/3243 [==============================] - 53s 16ms/step - loss: 0.8302 - acc: 0.6420\n",
      "Epoch 2/10\n",
      "3243/3243 [==============================] - 53s 16ms/step - loss: 0.6500 - acc: 0.7373\n",
      "Epoch 3/10\n",
      "3243/3243 [==============================] - 47s 14ms/step - loss: 0.5386 - acc: 0.7805 2s - loss: 0.539 - ETA: 1s - loss: 0.5392  - ETA: 0s - loss: 0.5386 - acc: 0\n",
      "Epoch 4/10\n",
      "3243/3243 [==============================] - 49s 15ms/step - loss: 0.4923 - acc: 0.7996\n",
      "Epoch 5/10\n",
      "3243/3243 [==============================] - 48s 15ms/step - loss: 0.4456 - acc: 0.8261\n",
      "Epoch 6/10\n",
      "3243/3243 [==============================] - 49s 15ms/step - loss: 0.4122 - acc: 0.8252\n",
      "Epoch 7/10\n",
      "3243/3243 [==============================] - 51s 16ms/step - loss: 0.3876 - acc: 0.8403\n",
      "Epoch 8/10\n",
      "3243/3243 [==============================] - 53s 16ms/step - loss: 0.3639 - acc: 0.8489\n",
      "Epoch 9/10\n",
      "3243/3243 [==============================] - 48s 15ms/step - loss: 0.3508 - acc: 0.8480\n",
      "Epoch 10/10\n",
      "3243/3243 [==============================] - 49s 15ms/step - loss: 0.3290 - acc: 0.8606\n",
      "Epoch 1/10\n",
      "3243/3243 [==============================] - 52s 16ms/step - loss: 0.8427 - acc: 0.6435\n",
      "Epoch 2/10\n",
      "3243/3243 [==============================] - 53s 16ms/step - loss: 0.6379 - acc: 0.7468\n",
      "Epoch 3/10\n",
      "3243/3243 [==============================] - 55s 17ms/step - loss: 0.5454 - acc: 0.7780\n",
      "Epoch 4/10\n",
      "3243/3243 [==============================] - 50s 15ms/step - loss: 0.4819 - acc: 0.8048\n",
      "Epoch 5/10\n",
      "3243/3243 [==============================] - 53s 16ms/step - loss: 0.4291 - acc: 0.8279\n",
      "Epoch 6/10\n",
      "3243/3243 [==============================] - 59s 18ms/step - loss: 0.4046 - acc: 0.8329\n",
      "Epoch 7/10\n",
      "3243/3243 [==============================] - 52s 16ms/step - loss: 0.3878 - acc: 0.8335\n",
      "Epoch 8/10\n",
      "3243/3243 [==============================] - 54s 17ms/step - loss: 0.3638 - acc: 0.8548\n",
      "Epoch 9/10\n",
      "3243/3243 [==============================] - 55s 17ms/step - loss: 0.3327 - acc: 0.8625 2s -\n",
      "Epoch 10/10\n",
      "3243/3243 [==============================] - 55s 17ms/step - loss: 0.3341 - acc: 0.8649\n",
      "Run Time:  86.45544220904297\n"
     ]
    }
   ],
   "source": [
    "import timeit\n",
    "\n",
    "start = timeit.default_timer()\n",
    "print(start)\n",
    "\n",
    "y_pred_ma = cross_validate(model, x_train, y_train, cv=kfold, scoring = ['precision_micro', 'recall_micro', 'accuracy'])\n",
    "\n",
    "stop = timeit.default_timer()\n",
    "\n",
    "print(\"Run Time: \", (stop - start)/60)"
   ]
  },
  {
   "cell_type": "code",
   "execution_count": 11,
   "metadata": {},
   "outputs": [
    {
     "name": "stdout",
     "output_type": "stream",
     "text": [
      "{'fit_time': array([497.88386178, 499.39123058, 485.43465447, 469.53807187,\n",
      "       498.88093376, 508.17530751, 528.87972617, 518.70738602,\n",
      "       500.43782258, 539.68670487]), 'test_accuracy': array([0.73756906, 0.77071823, 0.75414365, 0.77562327, 0.73888889,\n",
      "       0.70473538, 0.75487465, 0.76601671, 0.78551532, 0.7270195 ]), 'train_accuracy': array([0.94290123, 0.93888889, 0.94259259, 0.94415304, 0.93584207,\n",
      "       0.94326241, 0.94665433, 0.93709528, 0.94202899, 0.94511255]), 'test_precision_micro': array([0.73756906, 0.77071823, 0.75414365, 0.77562327, 0.73888889,\n",
      "       0.70473538, 0.75487465, 0.76601671, 0.78551532, 0.7270195 ]), 'train_precision_micro': array([0.94290123, 0.93888889, 0.94259259, 0.94415304, 0.93584207,\n",
      "       0.94326241, 0.94665433, 0.93709528, 0.94202899, 0.94511255]), 'score_time': array([1.33129883, 1.35374761, 1.6189189 , 1.48622084, 1.47151852,\n",
      "       1.53104639, 1.71421051, 2.15172148, 1.68770385, 2.46054435]), 'test_recall_micro': array([0.73756906, 0.77071823, 0.75414365, 0.77562327, 0.73888889,\n",
      "       0.70473538, 0.75487465, 0.76601671, 0.78551532, 0.7270195 ]), 'train_recall_micro': array([0.94290123, 0.93888889, 0.94259259, 0.94415304, 0.93584207,\n",
      "       0.94326241, 0.94665433, 0.93709528, 0.94202899, 0.94511255])}\n"
     ]
    }
   ],
   "source": [
    "print(y_pred_ma)"
   ]
  },
  {
   "cell_type": "code",
   "execution_count": 12,
   "metadata": {},
   "outputs": [
    {
     "name": "stdout",
     "output_type": "stream",
     "text": [
      "0.7515104656702049\n"
     ]
    }
   ],
   "source": [
    "print(np.mean(y_pred_ma['test_accuracy']))"
   ]
  },
  {
   "cell_type": "code",
   "execution_count": 8,
   "metadata": {},
   "outputs": [],
   "source": [
    "pred = lstm_model.predict(x_test)\n"
   ]
  },
  {
   "cell_type": "code",
   "execution_count": 9,
   "metadata": {},
   "outputs": [
    {
     "data": {
      "text/plain": [
       "(463, 3)"
      ]
     },
     "execution_count": 9,
     "metadata": {},
     "output_type": "execute_result"
    }
   ],
   "source": [
    "y_pred = np.zeros_like(encoded_y_test)\n",
    "\n",
    "# print(y_test.shape)\n",
    "y_pred.shape"
   ]
  },
  {
   "cell_type": "code",
   "execution_count": 10,
   "metadata": {},
   "outputs": [
    {
     "name": "stdout",
     "output_type": "stream",
     "text": [
      "(463, 3)\n"
     ]
    }
   ],
   "source": [
    "for pred_index, pred_val in enumerate(pred):\n",
    "\n",
    "#     print(np.argmax(pred[pred_index]))\n",
    "    y_pred[pred_index][np.argmax(pred[pred_index])] = 1\n",
    "print(y_pred.shape)"
   ]
  },
  {
   "cell_type": "code",
   "execution_count": 11,
   "metadata": {},
   "outputs": [
    {
     "name": "stdout",
     "output_type": "stream",
     "text": [
      "(463,)\n",
      "(463,)\n"
     ]
    }
   ],
   "source": [
    "y_pred_label = np.array([0]*y_pred.shape[0])\n",
    "y_test_label = np.array([0]*y_pred.shape[0])\n",
    "\n",
    "print(y_pred_label.shape)\n",
    "print(y_test_label.shape)"
   ]
  },
  {
   "cell_type": "code",
   "execution_count": 12,
   "metadata": {},
   "outputs": [
    {
     "name": "stdout",
     "output_type": "stream",
     "text": [
      "(463,)\n",
      "(463,)\n"
     ]
    }
   ],
   "source": [
    "for pred_index, pred_val in enumerate(y_pred):\n",
    "\n",
    "    if np.argmax(y_pred[pred_index]) == 0:\n",
    "        y_pred_label[pred_index] = -1\n",
    "    elif np.argmax(y_pred[pred_index]) == 1:\n",
    "        y_pred_label[pred_index] = 0    \n",
    "    else:\n",
    "        y_pred_label[pred_index] = 1\n",
    "    \n",
    "#     if np.argmax(Y_test[pred_index]) == 0:\n",
    "#         y_test_label[pred_index] = -1\n",
    "#     elif np.argmax(Y_test[pred_index]) == 1:\n",
    "#         y_test_label[pred_index] = 0    \n",
    "#     else:\n",
    "#         y_test_label[pred_index] = 1\n",
    "\n",
    "print(y_pred_label.shape)\n",
    "print(y_test_label.shape)\n"
   ]
  },
  {
   "cell_type": "code",
   "execution_count": 13,
   "metadata": {},
   "outputs": [
    {
     "name": "stdout",
     "output_type": "stream",
     "text": [
      "0.7213822894168467\n"
     ]
    }
   ],
   "source": [
    "from sklearn.metrics import accuracy_score, classification_report\n",
    "mod_accuracy = accuracy_score(y_test, y_pred_label)\n",
    "print(mod_accuracy)"
   ]
  },
  {
   "cell_type": "code",
   "execution_count": null,
   "metadata": {},
   "outputs": [],
   "source": []
  }
 ],
 "metadata": {
  "kernelspec": {
   "display_name": "Python 3",
   "language": "python",
   "name": "python3"
  },
  "language_info": {
   "codemirror_mode": {
    "name": "ipython",
    "version": 3
   },
   "file_extension": ".py",
   "mimetype": "text/x-python",
   "name": "python",
   "nbconvert_exporter": "python",
   "pygments_lexer": "ipython3",
   "version": "3.5.5"
  }
 },
 "nbformat": 4,
 "nbformat_minor": 2
}
