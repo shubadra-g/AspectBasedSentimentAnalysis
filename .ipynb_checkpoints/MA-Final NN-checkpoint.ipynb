{
 "cells": [
  {
   "cell_type": "code",
   "execution_count": 1,
   "metadata": {},
   "outputs": [
    {
     "name": "stdout",
     "output_type": "stream",
     "text": [
      "success\n",
      "(2313, 2354)\n",
      "(2313, 2353)\n"
     ]
    },
    {
     "data": {
      "text/plain": [
       "'hello world'"
      ]
     },
     "execution_count": 1,
     "metadata": {},
     "output_type": "execute_result"
    }
   ],
   "source": [
    "import pandas as pd\n",
    "from sklearn import svm\n",
    "import numpy as np\n",
    "\n",
    "from sklearn.model_selection import KFold, train_test_split\n",
    "from sklearn.metrics import accuracy_score, classification_report\n",
    "# from sklearn.metrics import accuracy_score\n",
    "import pickle\n",
    "from sklearn.metrics import precision_score\n",
    "from sklearn.metrics import recall_score\n",
    "from sklearn.metrics import f1_score\n",
    "from sklearn.model_selection import cross_validate, cross_val_predict\n",
    "from sklearn.metrics.scorer import make_scorer\n",
    "from sklearn.metrics import confusion_matrix\n",
    "from sklearn import metrics\n",
    "print('success')\n",
    "'hello world'\n",
    "\n",
    "'''Load data set'''\n",
    "df1 = pd.read_csv(\"weightxy_data1_spell_lemm.csv\")\n",
    "print(df1.shape)\n",
    "print(df1.iloc[:,:-1].shape)\n",
    "'hello world'\n",
    "\n"
   ]
  },
  {
   "cell_type": "code",
   "execution_count": 2,
   "metadata": {},
   "outputs": [
    {
     "name": "stderr",
     "output_type": "stream",
     "text": [
      "Using TensorFlow backend.\n"
     ]
    }
   ],
   "source": [
    "from keras.models import Sequential\n",
    "from keras.layers import Dense\n",
    "from keras.layers import Dropout\n",
    "from keras.wrappers.scikit_learn import KerasClassifier\n",
    "from keras.utils import np_utils\n",
    "from keras.constraints import maxnorm\n",
    "from sklearn.model_selection import cross_val_score\n",
    "from sklearn.model_selection import KFold, train_test_split\n",
    "from sklearn.preprocessing import LabelEncoder\n",
    "from sklearn.pipeline import Pipeline\n",
    "from keras.wrappers.scikit_learn import KerasClassifier\n",
    "from sklearn.model_selection import StratifiedKFold\n",
    "from sklearn.model_selection import cross_val_score"
   ]
  },
  {
   "cell_type": "code",
   "execution_count": 3,
   "metadata": {},
   "outputs": [
    {
     "data": {
      "text/plain": [
       "'running on cpu'"
      ]
     },
     "execution_count": 3,
     "metadata": {},
     "output_type": "execute_result"
    }
   ],
   "source": [
    "import tensorflow as tf\n",
    "from keras import backend as K\n",
    "\n",
    "num_cores = 4\n",
    "\n",
    "CPU = True\n",
    "GPU = False\n",
    "\n",
    "if GPU:\n",
    "    num_GPU = 1\n",
    "    num_CPU = 1\n",
    "if CPU:\n",
    "    num_CPU = 1\n",
    "    num_GPU = 0\n",
    "\n",
    "\n",
    "config = tf.ConfigProto(intra_op_parallelism_threads=num_cores,\\\n",
    "        inter_op_parallelism_threads=num_cores, allow_soft_placement=True,\\\n",
    "        device_count = {'CPU' : num_CPU, 'GPU' : num_GPU})\n",
    "session = tf.Session(config=config)\n",
    "K.set_session(session)\n",
    "\n",
    "'running on cpu'"
   ]
  },
  {
   "cell_type": "code",
   "execution_count": 4,
   "metadata": {},
   "outputs": [
    {
     "name": "stdout",
     "output_type": "stream",
     "text": [
      "[-1  0  1]\n",
      "0\n",
      "[1 2 0 ... 2 2 1]\n"
     ]
    }
   ],
   "source": [
    "seed = 7\n",
    "np.random.seed(seed)\n",
    "\n",
    "X, Y = df1.drop(['class_'], axis = 1), df1['class_']\n",
    "\n",
    "encoder = LabelEncoder()\n",
    "# print(encoder.classes_)\n",
    "\n",
    "encoder.fit(Y)\n",
    "print(encoder.classes_)\n",
    "print(Y[0])\n",
    "encoded_Y = encoder.transform(Y)\n",
    "print(encoded_Y)\n",
    "# convert integers to dummy variables (i.e. one hot encoded)\n",
    "dummy_y = np_utils.to_categorical(encoded_Y)"
   ]
  },
  {
   "cell_type": "code",
   "execution_count": 5,
   "metadata": {},
   "outputs": [
    {
     "data": {
      "text/plain": [
       "'success'"
      ]
     },
     "execution_count": 5,
     "metadata": {},
     "output_type": "execute_result"
    }
   ],
   "source": [
    "def create_model():\n",
    "    # create model\n",
    "    model = Sequential()\n",
    "    \n",
    "    model.add(Dropout(0.5, input_shape=(X.shape[1],)))\n",
    "    model.add(Dense(100, kernel_initializer='normal', activation='relu', kernel_constraint=maxnorm(3)))\n",
    "    \n",
    "#     model.add(Dense(100, input_dim=X.shape[1], kernel_initializer='normal', activation='relu', kernel_constraint=maxnorm(3)))\n",
    "    \n",
    "    model.add(Dropout(0.5))\n",
    "    model.add(Dense(50, kernel_initializer='normal', activation='relu', kernel_constraint=maxnorm(3)))\n",
    "    model.add(Dropout(0.5))\n",
    "    model.add(Dense(3, kernel_initializer='normal', activation='sigmoid'))\n",
    "    \n",
    "#     model.add(Dense(12, input_dim=X.shape[1], activation='relu'))\n",
    "#     model.add(Dense(8, activation='relu'))\n",
    "#     model.add(Dense(3, activation='softmax'))\n",
    "    # Compile model\n",
    "    model.compile(loss='categorical_crossentropy', optimizer='adam', metrics=['accuracy'])\n",
    "    return model\n",
    "\n",
    "model = KerasClassifier(build_fn=create_model, epochs=10, batch_size=10)\n",
    "kfold = StratifiedKFold(n_splits=10, shuffle=True, random_state=seed)\n",
    "\n",
    "'success'"
   ]
  },
  {
   "cell_type": "code",
   "execution_count": 6,
   "metadata": {},
   "outputs": [
    {
     "name": "stdout",
     "output_type": "stream",
     "text": [
      "1.0281121855454623e-06\n",
      "Run Time:  1.4811959823432015\n"
     ]
    }
   ],
   "source": [
    "import timeit\n",
    "\n",
    "start = timeit.default_timer()\n",
    "print(start)\n",
    "y_pred_ma = cross_validate(model, X, Y, cv=kfold, scoring = ['precision_micro', 'recall_micro', 'accuracy'])\n",
    "\n",
    "stop = timeit.default_timer()\n",
    "\n",
    "print(\"Run Time: \", (stop - start)/60)"
   ]
  },
  {
   "cell_type": "code",
   "execution_count": 7,
   "metadata": {},
   "outputs": [
    {
     "name": "stdout",
     "output_type": "stream",
     "text": [
      "{'test_accuracy': array([0.80110497, 0.74861878, 0.74585635, 0.76454294, 0.77777778,\n",
      "       0.71309192, 0.74930362, 0.76601671, 0.75487465, 0.74651811]), 'test_precision_micro': array([0.80110497, 0.74861878, 0.74585635, 0.76454294, 0.77777778,\n",
      "       0.71309192, 0.74930362, 0.76601671, 0.75487465, 0.74651811]), 'score_time': array([0.30829573, 0.2661581 , 0.53976393, 0.44712806, 0.55114627,\n",
      "       0.59268451, 0.43249869, 0.51423812, 0.53553033, 0.59666181]), 'test_recall_micro': array([0.80110497, 0.74861878, 0.74585635, 0.76454294, 0.77777778,\n",
      "       0.71309192, 0.74930362, 0.76601671, 0.75487465, 0.74651811]), 'train_accuracy': array([0.90401235, 0.89567901, 0.90679012, 0.90774452, 0.90376311,\n",
      "       0.91982732, 0.89546716, 0.89916744, 0.89947579, 0.91119334]), 'fit_time': array([70.00126934, 67.58389163, 65.44603896, 70.19497395, 69.11378098,\n",
      "       70.21360517, 68.42698145, 68.84666681, 69.99253368, 69.79284263]), 'train_recall_micro': array([0.90401235, 0.89567901, 0.90679012, 0.90774452, 0.90376311,\n",
      "       0.91982732, 0.89546716, 0.89916744, 0.89947579, 0.91119334]), 'train_precision_micro': array([0.90401235, 0.89567901, 0.90679012, 0.90774452, 0.90376311,\n",
      "       0.91982732, 0.89546716, 0.89916744, 0.89947579, 0.91119334])}\n"
     ]
    }
   ],
   "source": [
    "print(y_pred_ma) # data 2"
   ]
  },
  {
   "cell_type": "code",
   "execution_count": 7,
   "metadata": {},
   "outputs": [
    {
     "name": "stdout",
     "output_type": "stream",
     "text": [
      "{'fit_time': array([38.40477252, 38.63895631, 39.40618849, 38.80695391, 38.0495646 ,\n",
      "       39.81655908, 42.30080819, 40.36104012, 40.63831496, 39.36965203]), 'test_precision_micro': array([0.73275862, 0.72844828, 0.72413793, 0.75862069, 0.73706897,\n",
      "       0.70562771, 0.72608696, 0.74347826, 0.74347826, 0.74782609]), 'test_accuracy': array([0.73275862, 0.72844828, 0.72413793, 0.75862069, 0.73706897,\n",
      "       0.70562771, 0.72608696, 0.74347826, 0.74347826, 0.74782609]), 'test_recall_micro': array([0.73275862, 0.72844828, 0.72413793, 0.75862069, 0.73706897,\n",
      "       0.70562771, 0.72608696, 0.74347826, 0.74347826, 0.74782609]), 'score_time': array([0.18366981, 0.22751141, 0.2301116 , 0.35388446, 0.29593611,\n",
      "       0.31997728, 0.34182978, 0.33461189, 0.56716514, 0.46501875]), 'train_recall_micro': array([0.92496392, 0.91486291, 0.92448292, 0.91390091, 0.91582492,\n",
      "       0.91923077, 0.91734743, 0.91975012, 0.91686689, 0.91830851]), 'train_precision_micro': array([0.92496392, 0.91486291, 0.92448292, 0.91390091, 0.91582492,\n",
      "       0.91923077, 0.91734743, 0.91975012, 0.91686689, 0.91830851]), 'train_accuracy': array([0.92496392, 0.91486291, 0.92448292, 0.91390091, 0.91582492,\n",
      "       0.91923077, 0.91734743, 0.91975012, 0.91686689, 0.91830851])}\n"
     ]
    }
   ],
   "source": [
    "print(y_pred_ma)# data 1"
   ]
  },
  {
   "cell_type": "code",
   "execution_count": 8,
   "metadata": {},
   "outputs": [
    {
     "name": "stdout",
     "output_type": "stream",
     "text": [
      "{'score_time': array([0.07817507, 0.08403373, 0.09377718, 0.10938811, 0.18448949,\n",
      "       0.15217185, 0.14066291, 0.16608429, 0.15626693, 0.17189312]), 'fit_time': array([8.03657722, 8.001899  , 8.09415197, 8.13013172, 9.54816389,\n",
      "       9.84944892, 9.20107198, 9.39885163, 9.29632092, 8.79276156]), 'train_accuracy': array([0.8970659 , 0.8975469 , 0.91005291, 0.8994709 , 0.90572391,\n",
      "       0.90192308, 0.90677559, 0.88995675, 0.89716482, 0.8880346 ]), 'test_precision_micro': array([0.75431034, 0.71551724, 0.74137931, 0.71551724, 0.70258621,\n",
      "       0.6969697 , 0.76956522, 0.71304348, 0.73043478, 0.76086957]), 'train_recall_micro': array([0.8970659 , 0.8975469 , 0.91005291, 0.8994709 , 0.90572391,\n",
      "       0.90192308, 0.90677559, 0.88995675, 0.89716482, 0.8880346 ]), 'test_accuracy': array([0.75431034, 0.71551724, 0.74137931, 0.71551724, 0.70258621,\n",
      "       0.6969697 , 0.76956522, 0.71304348, 0.73043478, 0.76086957]), 'test_recall_micro': array([0.75431034, 0.71551724, 0.74137931, 0.71551724, 0.70258621,\n",
      "       0.6969697 , 0.76956522, 0.71304348, 0.73043478, 0.76086957]), 'train_precision_micro': array([0.8970659 , 0.8975469 , 0.91005291, 0.8994709 , 0.90572391,\n",
      "       0.90192308, 0.90677559, 0.88995675, 0.89716482, 0.8880346 ])}\n"
     ]
    }
   ],
   "source": [
    "print(y_pred_ma) #weightxy_data1_POS_spell_lemm.csv\""
   ]
  },
  {
   "cell_type": "code",
   "execution_count": 7,
   "metadata": {},
   "outputs": [
    {
     "name": "stdout",
     "output_type": "stream",
     "text": [
      "{'fit_time': array([10.08983636,  8.5518589 ,  8.47024727,  9.51714301,  8.48182011,\n",
      "       10.50015664, 10.32549572, 10.31182599, 10.59105849,  9.20443344]), 'train_recall_micro': array([0.91245791, 0.9004329 , 0.91390091, 0.8980279 , 0.91726792,\n",
      "       0.91875   , 0.90869774, 0.9043729 , 0.90725613, 0.89956752]), 'test_accuracy': array([0.75862069, 0.74137931, 0.7112069 , 0.7112069 , 0.70689655,\n",
      "       0.71861472, 0.75652174, 0.72608696, 0.72173913, 0.71304348]), 'train_accuracy': array([0.91245791, 0.9004329 , 0.91390091, 0.8980279 , 0.91726792,\n",
      "       0.91875   , 0.90869774, 0.9043729 , 0.90725613, 0.89956752]), 'test_precision_micro': array([0.75862069, 0.74137931, 0.7112069 , 0.7112069 , 0.70689655,\n",
      "       0.71861472, 0.75652174, 0.72608696, 0.72173913, 0.71304348]), 'train_precision_micro': array([0.91245791, 0.9004329 , 0.91390091, 0.8980279 , 0.91726792,\n",
      "       0.91875   , 0.90869774, 0.9043729 , 0.90725613, 0.89956752]), 'score_time': array([0.0625062 , 0.07813382, 0.09379721, 0.09375858, 0.14063478,\n",
      "       0.14063954, 0.14064074, 0.1574049 , 0.17823195, 0.18751836]), 'test_recall_micro': array([0.75862069, 0.74137931, 0.7112069 , 0.7112069 , 0.70689655,\n",
      "       0.71861472, 0.75652174, 0.72608696, 0.72173913, 0.71304348])}\n"
     ]
    }
   ],
   "source": [
    "print(y_pred_ma) #data 1 lemm"
   ]
  },
  {
   "cell_type": "code",
   "execution_count": 8,
   "metadata": {},
   "outputs": [
    {
     "name": "stdout",
     "output_type": "stream",
     "text": [
      "{'fit_time': array([23.33149529, 31.66399908, 27.46750069, 30.33810949, 26.41047883,\n",
      "       31.62971354, 28.03769994, 27.5873692 , 27.31112719, 29.69722962]), 'test_recall_micro': array([0.74309392, 0.7679558 , 0.72651934, 0.76454294, 0.73333333,\n",
      "       0.72423398, 0.72144847, 0.73816156, 0.75766017, 0.73816156]), 'train_precision_micro': array([0.89135802, 0.89074074, 0.87901235, 0.89540265, 0.88895743,\n",
      "       0.90749306, 0.89145853, 0.88159112, 0.88374961, 0.8973173 ]), 'score_time': array([0.12696505, 0.20554543, 0.15626717, 0.17193747, 0.1783452 ,\n",
      "       0.1772747 , 0.20318985, 0.20995188, 0.21877313, 0.23444271]), 'test_accuracy': array([0.74309392, 0.7679558 , 0.72651934, 0.76454294, 0.73333333,\n",
      "       0.72423398, 0.72144847, 0.73816156, 0.75766017, 0.73816156]), 'test_precision_micro': array([0.74309392, 0.7679558 , 0.72651934, 0.76454294, 0.73333333,\n",
      "       0.72423398, 0.72144847, 0.73816156, 0.75766017, 0.73816156]), 'train_accuracy': array([0.89135802, 0.89074074, 0.87901235, 0.89540265, 0.88895743,\n",
      "       0.90749306, 0.89145853, 0.88159112, 0.88374961, 0.8973173 ]), 'train_recall_micro': array([0.89135802, 0.89074074, 0.87901235, 0.89540265, 0.88895743,\n",
      "       0.90749306, 0.89145853, 0.88159112, 0.88374961, 0.8973173 ])}\n"
     ]
    }
   ],
   "source": [
    "print(y_pred_ma) # data 2 POS spell lemma"
   ]
  },
  {
   "cell_type": "code",
   "execution_count": 7,
   "metadata": {},
   "outputs": [
    {
     "name": "stdout",
     "output_type": "stream",
     "text": [
      "{'train_accuracy': array([0.89764536, 0.89380106, 0.9082172 , 0.90533397, 0.9082172 ,\n",
      "       0.89620375, 0.9024976 , 0.90638502, 0.89390302, 0.90926548]), 'test_recall_micro': array([0.76293103, 0.70258621, 0.73706897, 0.75      , 0.69827586,\n",
      "       0.70258621, 0.73593074, 0.67826087, 0.70869565, 0.72608696]), 'score_time': array([0.06255269, 0.07813501, 0.09376001, 0.09375501, 0.12500763,\n",
      "       0.1402216 , 0.15630221, 0.15812111, 0.15626431, 0.18751979]), 'train_recall_micro': array([0.89764536, 0.89380106, 0.9082172 , 0.90533397, 0.9082172 ,\n",
      "       0.89620375, 0.9024976 , 0.90638502, 0.89390302, 0.90926548]), 'train_precision_micro': array([0.89764536, 0.89380106, 0.9082172 , 0.90533397, 0.9082172 ,\n",
      "       0.89620375, 0.9024976 , 0.90638502, 0.89390302, 0.90926548]), 'test_precision_micro': array([0.76293103, 0.70258621, 0.73706897, 0.75      , 0.69827586,\n",
      "       0.70258621, 0.73593074, 0.67826087, 0.70869565, 0.72608696]), 'test_accuracy': array([0.76293103, 0.70258621, 0.73706897, 0.75      , 0.69827586,\n",
      "       0.70258621, 0.73593074, 0.67826087, 0.70869565, 0.72608696]), 'fit_time': array([8.18515038, 8.6926899 , 8.13179731, 7.91385865, 7.91741443,\n",
      "       8.68142319, 8.8601861 , 8.06617832, 8.10741305, 8.29587483])}\n"
     ]
    }
   ],
   "source": [
    "print(y_pred_ma) # weightxy_data1_spell_lemm_stem"
   ]
  },
  {
   "cell_type": "code",
   "execution_count": null,
   "metadata": {},
   "outputs": [],
   "source": []
  }
 ],
 "metadata": {
  "kernelspec": {
   "display_name": "Python 3",
   "language": "python",
   "name": "python3"
  },
  "language_info": {
   "codemirror_mode": {
    "name": "ipython",
    "version": 3
   },
   "file_extension": ".py",
   "mimetype": "text/x-python",
   "name": "python",
   "nbconvert_exporter": "python",
   "pygments_lexer": "ipython3",
   "version": "3.5.5"
  }
 },
 "nbformat": 4,
 "nbformat_minor": 2
}
