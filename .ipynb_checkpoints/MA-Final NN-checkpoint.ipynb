{
 "cells": [
  {
   "cell_type": "code",
   "execution_count": 1,
   "metadata": {},
   "outputs": [
    {
     "name": "stdout",
     "output_type": "stream",
     "text": [
      "success\n",
      "(2311, 2961)\n",
      "(2311, 2960)\n"
     ]
    },
    {
     "data": {
      "text/plain": [
       "'hello world'"
      ]
     },
     "execution_count": 1,
     "metadata": {},
     "output_type": "execute_result"
    }
   ],
   "source": [
    "import pandas as pd\n",
    "from sklearn import svm\n",
    "import numpy as np\n",
    "\n",
    "from sklearn.model_selection import KFold, train_test_split\n",
    "from sklearn.metrics import accuracy_score, classification_report\n",
    "# from sklearn.metrics import accuracy_score\n",
    "import pickle\n",
    "from sklearn.metrics import precision_score\n",
    "from sklearn.metrics import recall_score\n",
    "from sklearn.metrics import f1_score\n",
    "from sklearn.model_selection import cross_validate, cross_val_predict\n",
    "from sklearn.metrics.scorer import make_scorer\n",
    "from sklearn.metrics import confusion_matrix\n",
    "from sklearn import metrics\n",
    "print('success')\n",
    "'hello world'\n",
    "\n",
    "'''Load data set'''\n",
    "df1 = pd.read_csv(\"weightxy_data2.csv\")\n",
    "print(df1.shape)\n",
    "print(df1.iloc[:,:-1].shape)\n",
    "'hello world'\n",
    "\n"
   ]
  },
  {
   "cell_type": "code",
   "execution_count": 2,
   "metadata": {},
   "outputs": [
    {
     "name": "stderr",
     "output_type": "stream",
     "text": [
      "Using TensorFlow backend.\n"
     ]
    }
   ],
   "source": [
    "from keras.models import Sequential\n",
    "from keras.layers import Dense\n",
    "from keras.layers import Dropout\n",
    "from keras.wrappers.scikit_learn import KerasClassifier\n",
    "from keras.utils import np_utils\n",
    "from keras.constraints import maxnorm\n",
    "from sklearn.model_selection import cross_val_score\n",
    "from sklearn.model_selection import KFold, train_test_split\n",
    "from sklearn.preprocessing import LabelEncoder\n",
    "from sklearn.pipeline import Pipeline\n",
    "from keras.wrappers.scikit_learn import KerasClassifier\n",
    "from sklearn.model_selection import StratifiedKFold\n",
    "from sklearn.model_selection import cross_val_score"
   ]
  },
  {
   "cell_type": "code",
   "execution_count": 3,
   "metadata": {},
   "outputs": [
    {
     "data": {
      "text/plain": [
       "'running on cpu'"
      ]
     },
     "execution_count": 3,
     "metadata": {},
     "output_type": "execute_result"
    }
   ],
   "source": [
    "import tensorflow as tf\n",
    "from keras import backend as K\n",
    "\n",
    "num_cores = 4\n",
    "\n",
    "CPU = True\n",
    "GPU = False\n",
    "\n",
    "if GPU:\n",
    "    num_GPU = 1\n",
    "    num_CPU = 1\n",
    "if CPU:\n",
    "    num_CPU = 1\n",
    "    num_GPU = 0\n",
    "\n",
    "\n",
    "config = tf.ConfigProto(intra_op_parallelism_threads=num_cores,\\\n",
    "        inter_op_parallelism_threads=num_cores, allow_soft_placement=True,\\\n",
    "        device_count = {'CPU' : num_CPU, 'GPU' : num_GPU})\n",
    "session = tf.Session(config=config)\n",
    "K.set_session(session)\n",
    "\n",
    "'running on cpu'"
   ]
  },
  {
   "cell_type": "code",
   "execution_count": 4,
   "metadata": {},
   "outputs": [
    {
     "name": "stdout",
     "output_type": "stream",
     "text": [
      "[-1  0  1]\n",
      "0\n",
      "[1 2 0 ... 2 2 1]\n"
     ]
    }
   ],
   "source": [
    "seed = 7\n",
    "np.random.seed(seed)\n",
    "\n",
    "X, Y = df1.drop(['class_'], axis = 1), df1['class_']\n",
    "\n",
    "encoder = LabelEncoder()\n",
    "# print(encoder.classes_)\n",
    "\n",
    "encoder.fit(Y)\n",
    "print(encoder.classes_)\n",
    "print(Y[0])\n",
    "encoded_Y = encoder.transform(Y)\n",
    "print(encoded_Y)\n",
    "# convert integers to dummy variables (i.e. one hot encoded)\n",
    "dummy_y = np_utils.to_categorical(encoded_Y)"
   ]
  },
  {
   "cell_type": "code",
   "execution_count": 5,
   "metadata": {},
   "outputs": [
    {
     "data": {
      "text/plain": [
       "'success'"
      ]
     },
     "execution_count": 5,
     "metadata": {},
     "output_type": "execute_result"
    }
   ],
   "source": [
    "def create_model():\n",
    "    # create model\n",
    "    model = Sequential()\n",
    "    \n",
    "    model.add(Dropout(0.5, input_shape=(X.shape[1],)))\n",
    "    model.add(Dense(100, kernel_initializer='normal', activation='relu', kernel_constraint=maxnorm(3)))\n",
    "    \n",
    "#     model.add(Dense(100, input_dim=X.shape[1], kernel_initializer='normal', activation='relu', kernel_constraint=maxnorm(3)))\n",
    "    \n",
    "    model.add(Dropout(0.5))\n",
    "    model.add(Dense(50, kernel_initializer='normal', activation='relu', kernel_constraint=maxnorm(3)))\n",
    "    model.add(Dropout(0.5))\n",
    "    model.add(Dense(3, kernel_initializer='normal', activation='sigmoid'))\n",
    "    \n",
    "#     model.add(Dense(12, input_dim=X.shape[1], activation='relu'))\n",
    "#     model.add(Dense(8, activation='relu'))\n",
    "#     model.add(Dense(3, activation='softmax'))\n",
    "    # Compile model\n",
    "    model.compile(loss='categorical_crossentropy', optimizer='adam', metrics=['accuracy'])\n",
    "    return model\n",
    "\n",
    "model = KerasClassifier(build_fn=create_model, epochs=10, batch_size=10)\n",
    "kfold = StratifiedKFold(n_splits=10, shuffle=True, random_state=seed)\n",
    "\n",
    "'success'"
   ]
  },
  {
   "cell_type": "code",
   "execution_count": 6,
   "metadata": {},
   "outputs": [
    {
     "name": "stdout",
     "output_type": "stream",
     "text": [
      "(2311,)\n",
      "(2311, 3)\n"
     ]
    }
   ],
   "source": [
    "print(Y.shape)\n",
    "print(dummy_y.shape)"
   ]
  },
  {
   "cell_type": "code",
   "execution_count": 7,
   "metadata": {},
   "outputs": [
    {
     "name": "stdout",
     "output_type": "stream",
     "text": [
      "5.140563570265336e-07\n",
      "Epoch 1/10\n",
      "2079/2079 [==============================] - 2s 1ms/step - loss: 1.0645 - acc: 0.4271\n",
      "Epoch 2/10\n",
      "2079/2079 [==============================] - 2s 864us/step - loss: 0.9969 - acc: 0.5108\n",
      "Epoch 3/10\n",
      "2079/2079 [==============================] - 2s 978us/step - loss: 0.8464 - acc: 0.6013 0s - loss: 0.8424 - acc: 0.\n",
      "Epoch 4/10\n",
      "2079/2079 [==============================] - 2s 1ms/step - loss: 0.7768 - acc: 0.6479\n",
      "Epoch 5/10\n",
      "2079/2079 [==============================] - 3s 2ms/step - loss: 0.7343 - acc: 0.6792\n",
      "Epoch 6/10\n",
      "2079/2079 [==============================] - 2s 1ms/step - loss: 0.6720 - acc: 0.7234\n",
      "Epoch 7/10\n",
      "2079/2079 [==============================] - 2s 925us/step - loss: 0.6302 - acc: 0.7422\n",
      "Epoch 8/10\n",
      "2079/2079 [==============================] - 2s 801us/step - loss: 0.5989 - acc: 0.7499\n",
      "Epoch 9/10\n",
      "2079/2079 [==============================] - 2s 897us/step - loss: 0.5823 - acc: 0.7662\n",
      "Epoch 10/10\n",
      "2079/2079 [==============================] - 2s 1ms/step - loss: 0.5650 - acc: 0.7677\n",
      "Epoch 1/10\n",
      "2079/2079 [==============================] - 2s 1ms/step - loss: 1.0684 - acc: 0.4257\n",
      "Epoch 2/10\n",
      "2079/2079 [==============================] - 2s 832us/step - loss: 0.9758 - acc: 0.5022\n",
      "Epoch 3/10\n",
      "2079/2079 [==============================] - 3s 1ms/step - loss: 0.8601 - acc: 0.6061\n",
      "Epoch 4/10\n",
      "2079/2079 [==============================] - 2s 917us/step - loss: 0.7783 - acc: 0.6566\n",
      "Epoch 5/10\n",
      "2079/2079 [==============================] - 2s 932us/step - loss: 0.7320 - acc: 0.6922\n",
      "Epoch 6/10\n",
      "2079/2079 [==============================] - 2s 1ms/step - loss: 0.6650 - acc: 0.7282\n",
      "Epoch 7/10\n",
      "2079/2079 [==============================] - 2s 931us/step - loss: 0.6388 - acc: 0.7379\n",
      "Epoch 8/10\n",
      "2079/2079 [==============================] - 3s 1ms/step - loss: 0.6088 - acc: 0.7595\n",
      "Epoch 9/10\n",
      "2079/2079 [==============================] - 2s 976us/step - loss: 0.5657 - acc: 0.7802\n",
      "Epoch 10/10\n",
      "2079/2079 [==============================] - 2s 1ms/step - loss: 0.5417 - acc: 0.7855\n",
      "Epoch 1/10\n",
      "2079/2079 [==============================] - 2s 1ms/step - loss: 1.0688 - acc: 0.4291\n",
      "Epoch 2/10\n",
      "2079/2079 [==============================] - 2s 1ms/step - loss: 0.9954 - acc: 0.5075\n",
      "Epoch 3/10\n",
      "2079/2079 [==============================] - 2s 995us/step - loss: 0.8672 - acc: 0.6166\n",
      "Epoch 4/10\n",
      "2079/2079 [==============================] - 3s 1ms/step - loss: 0.7773 - acc: 0.6522\n",
      "Epoch 5/10\n",
      "2079/2079 [==============================] - 2s 952us/step - loss: 0.7244 - acc: 0.6936\n",
      "Epoch 6/10\n",
      "2079/2079 [==============================] - 2s 1ms/step - loss: 0.6826 - acc: 0.7239A: 0s - loss: 0.6812 - acc: 0\n",
      "Epoch 7/10\n",
      "2079/2079 [==============================] - 3s 1ms/step - loss: 0.5987 - acc: 0.7508\n",
      "Epoch 8/10\n",
      "2079/2079 [==============================] - 2s 900us/step - loss: 0.5971 - acc: 0.7658\n",
      "Epoch 9/10\n",
      "2079/2079 [==============================] - 2s 1ms/step - loss: 0.5844 - acc: 0.7667\n",
      "Epoch 10/10\n",
      "2079/2079 [==============================] - 2s 1ms/step - loss: 0.5438 - acc: 0.7821\n",
      "Epoch 1/10\n",
      "2079/2079 [==============================] - 2s 1ms/step - loss: 1.0646 - acc: 0.4281\n",
      "Epoch 2/10\n",
      "2079/2079 [==============================] - 2s 974us/step - loss: 1.0004 - acc: 0.4954\n",
      "Epoch 3/10\n",
      "2079/2079 [==============================] - 2s 1ms/step - loss: 0.8754 - acc: 0.6056\n",
      "Epoch 4/10\n",
      "2079/2079 [==============================] - 2s 832us/step - loss: 0.8003 - acc: 0.6518\n",
      "Epoch 5/10\n",
      "2079/2079 [==============================] - 2s 922us/step - loss: 0.7182 - acc: 0.6994 0s - loss: 0.7229 - acc: 0.\n",
      "Epoch 6/10\n",
      "2079/2079 [==============================] - 2s 969us/step - loss: 0.6949 - acc: 0.7066\n",
      "Epoch 7/10\n",
      "2079/2079 [==============================] - 2s 1ms/step - loss: 0.6447 - acc: 0.7451\n",
      "Epoch 8/10\n",
      "2079/2079 [==============================] - 2s 1ms/step - loss: 0.6187 - acc: 0.7489\n",
      "Epoch 9/10\n",
      "2079/2079 [==============================] - 2s 925us/step - loss: 0.5874 - acc: 0.7576\n",
      "Epoch 10/10\n",
      "2079/2079 [==============================] - 2s 1ms/step - loss: 0.5595 - acc: 0.7773\n",
      "Epoch 1/10\n",
      "2079/2079 [==============================] - 2s 1ms/step - loss: 1.0706 - acc: 0.4266\n",
      "Epoch 2/10\n",
      "2079/2079 [==============================] - 2s 907us/step - loss: 1.0023 - acc: 0.4887\n",
      "Epoch 3/10\n",
      "2079/2079 [==============================] - 2s 1ms/step - loss: 0.8603 - acc: 0.6065\n",
      "Epoch 4/10\n",
      "2079/2079 [==============================] - 2s 1ms/step - loss: 0.7843 - acc: 0.6662\n",
      "Epoch 5/10\n",
      "2079/2079 [==============================] - 2s 1ms/step - loss: 0.7125 - acc: 0.7003\n",
      "Epoch 6/10\n",
      "2079/2079 [==============================] - 2s 1ms/step - loss: 0.6480 - acc: 0.7403\n",
      "Epoch 7/10\n",
      "2079/2079 [==============================] - 2s 978us/step - loss: 0.6392 - acc: 0.7388\n",
      "Epoch 8/10\n",
      "2079/2079 [==============================] - 2s 1ms/step - loss: 0.5907 - acc: 0.7643\n",
      "Epoch 9/10\n",
      "2079/2079 [==============================] - 2s 1ms/step - loss: 0.5677 - acc: 0.7691\n",
      "Epoch 10/10\n",
      "2079/2079 [==============================] - 2s 1ms/step - loss: 0.5351 - acc: 0.7917\n",
      "Epoch 1/10\n",
      "2080/2080 [==============================] - 3s 1ms/step - loss: 1.0709 - acc: 0.4135\n",
      "Epoch 2/10\n",
      "2080/2080 [==============================] - 2s 930us/step - loss: 1.0109 - acc: 0.4774\n",
      "Epoch 3/10\n",
      "2080/2080 [==============================] - 2s 1ms/step - loss: 0.8702 - acc: 0.6111\n",
      "Epoch 4/10\n",
      "2080/2080 [==============================] - 2s 939us/step - loss: 0.7734 - acc: 0.6538\n",
      "Epoch 5/10\n",
      "2080/2080 [==============================] - 2s 1ms/step - loss: 0.7488 - acc: 0.6885\n",
      "Epoch 6/10\n",
      "2080/2080 [==============================] - 2s 1ms/step - loss: 0.6866 - acc: 0.7135\n",
      "Epoch 7/10\n",
      "2080/2080 [==============================] - 3s 1ms/step - loss: 0.6509 - acc: 0.7240\n",
      "Epoch 8/10\n",
      "2080/2080 [==============================] - 2s 966us/step - loss: 0.6163 - acc: 0.7553\n",
      "Epoch 9/10\n",
      "2080/2080 [==============================] - 2s 909us/step - loss: 0.5729 - acc: 0.7721\n",
      "Epoch 10/10\n",
      "2080/2080 [==============================] - 2s 819us/step - loss: 0.5548 - acc: 0.7788\n",
      "Epoch 1/10\n",
      "2081/2081 [==============================] - 2s 973us/step - loss: 1.0650 - acc: 0.4214\n",
      "Epoch 2/10\n",
      "2081/2081 [==============================] - 2s 911us/step - loss: 0.9980 - acc: 0.4940\n",
      "Epoch 3/10\n",
      "2081/2081 [==============================] - 2s 839us/step - loss: 0.8649 - acc: 0.6045\n",
      "Epoch 4/10\n",
      "2081/2081 [==============================] - 2s 828us/step - loss: 0.7947 - acc: 0.6636\n",
      "Epoch 5/10\n",
      "2081/2081 [==============================] - 2s 899us/step - loss: 0.7281 - acc: 0.7112\n",
      "Epoch 6/10\n",
      "2081/2081 [==============================] - 2s 827us/step - loss: 0.6540 - acc: 0.7386\n",
      "Epoch 7/10\n",
      "2081/2081 [==============================] - 2s 1ms/step - loss: 0.6258 - acc: 0.7477\n",
      "Epoch 8/10\n",
      "2081/2081 [==============================] - 3s 1ms/step - loss: 0.5838 - acc: 0.7583\n",
      "Epoch 9/10\n",
      "2081/2081 [==============================] - 2s 1ms/step - loss: 0.5716 - acc: 0.7655\n",
      "Epoch 10/10\n",
      "2081/2081 [==============================] - 2s 1ms/step - loss: 0.5575 - acc: 0.7775A: 1s -\n",
      "Epoch 1/10\n",
      "2081/2081 [==============================] - 3s 1ms/step - loss: 1.0697 - acc: 0.4128\n",
      "Epoch 2/10\n",
      "2081/2081 [==============================] - 2s 1ms/step - loss: 1.0136 - acc: 0.4580\n",
      "Epoch 3/10\n",
      "2081/2081 [==============================] - 3s 1ms/step - loss: 0.8864 - acc: 0.6021\n",
      "Epoch 4/10\n",
      "2081/2081 [==============================] - 2s 1ms/step - loss: 0.7755 - acc: 0.6636\n",
      "Epoch 5/10\n",
      "2081/2081 [==============================] - 2s 1ms/step - loss: 0.7252 - acc: 0.7098\n",
      "Epoch 6/10\n",
      "2081/2081 [==============================] - 2s 1ms/step - loss: 0.6704 - acc: 0.7242\n",
      "Epoch 7/10\n",
      "2081/2081 [==============================] - 3s 1ms/step - loss: 0.6254 - acc: 0.7482\n",
      "Epoch 8/10\n",
      "2081/2081 [==============================] - 2s 1ms/step - loss: 0.6190 - acc: 0.7453\n",
      "Epoch 9/10\n",
      "2081/2081 [==============================] - 2s 1ms/step - loss: 0.5721 - acc: 0.7727\n",
      "Epoch 10/10\n",
      "2081/2081 [==============================] - 2s 1ms/step - loss: 0.5465 - acc: 0.7770\n",
      "Epoch 1/10\n",
      "2081/2081 [==============================] - 3s 1ms/step - loss: 1.0669 - acc: 0.4296\n",
      "Epoch 2/10\n",
      "2081/2081 [==============================] - 2s 1ms/step - loss: 1.0047 - acc: 0.4873A: 0s - loss: 1.0253 -\n",
      "Epoch 3/10\n"
     ]
    },
    {
     "name": "stdout",
     "output_type": "stream",
     "text": [
      "2081/2081 [==============================] - 3s 1ms/step - loss: 0.8839 - acc: 0.5944\n",
      "Epoch 4/10\n",
      "2081/2081 [==============================] - 2s 998us/step - loss: 0.7908 - acc: 0.6401\n",
      "Epoch 5/10\n",
      "2081/2081 [==============================] - 2s 927us/step - loss: 0.7268 - acc: 0.7016\n",
      "Epoch 6/10\n",
      "2081/2081 [==============================] - 2s 1ms/step - loss: 0.6901 - acc: 0.7314\n",
      "Epoch 7/10\n",
      "2081/2081 [==============================] - 2s 1ms/step - loss: 0.6265 - acc: 0.7554\n",
      "Epoch 8/10\n",
      "2081/2081 [==============================] - 3s 1ms/step - loss: 0.5965 - acc: 0.7573\n",
      "Epoch 9/10\n",
      "2081/2081 [==============================] - 2s 912us/step - loss: 0.5641 - acc: 0.7765\n",
      "Epoch 10/10\n",
      "2081/2081 [==============================] - 3s 1ms/step - loss: 0.5530 - acc: 0.7814\n",
      "Epoch 1/10\n",
      "2081/2081 [==============================] - 3s 1ms/step - loss: 1.0683 - acc: 0.4272A: 3s \n",
      "Epoch 2/10\n",
      "2081/2081 [==============================] - 2s 1ms/step - loss: 0.9954 - acc: 0.4998\n",
      "Epoch 3/10\n",
      "2081/2081 [==============================] - 2s 987us/step - loss: 0.8772 - acc: 0.5983\n",
      "Epoch 4/10\n",
      "2081/2081 [==============================] - 2s 1ms/step - loss: 0.7884 - acc: 0.6641\n",
      "Epoch 5/10\n",
      "2081/2081 [==============================] - 2s 1ms/step - loss: 0.7146 - acc: 0.6833\n",
      "Epoch 6/10\n",
      "2081/2081 [==============================] - 2s 847us/step - loss: 0.6496 - acc: 0.7323\n",
      "Epoch 7/10\n",
      "2081/2081 [==============================] - 2s 958us/step - loss: 0.6575 - acc: 0.7280\n",
      "Epoch 8/10\n",
      "2081/2081 [==============================] - 2s 862us/step - loss: 0.5983 - acc: 0.7645\n",
      "Epoch 9/10\n",
      "2081/2081 [==============================] - 2s 871us/step - loss: 0.5887 - acc: 0.7727\n",
      "Epoch 10/10\n",
      "2081/2081 [==============================] - 2s 930us/step - loss: 0.5811 - acc: 0.7612\n",
      "Run Time:  3.742816122383796\n"
     ]
    }
   ],
   "source": [
    "import timeit\n",
    "\n",
    "start = timeit.default_timer()\n",
    "print(start)\n",
    "y_pred_ma = cross_val_predict(model, X, Y, cv=kfold)\n",
    "\n",
    "stop = timeit.default_timer()\n",
    "\n",
    "print(\"Run Time: \", (stop - start)/60)"
   ]
  },
  {
   "cell_type": "code",
   "execution_count": 9,
   "metadata": {},
   "outputs": [
    {
     "name": "stdout",
     "output_type": "stream",
     "text": [
      "0.7347468628299437\n"
     ]
    }
   ],
   "source": [
    "from sklearn.metrics import accuracy_score, classification_report\n",
    "mod_accuracy = accuracy_score(Y, y_pred_ma)\n",
    "print(mod_accuracy)"
   ]
  },
  {
   "cell_type": "code",
   "execution_count": 10,
   "metadata": {},
   "outputs": [
    {
     "name": "stdout",
     "output_type": "stream",
     "text": [
      "Pr, Re scores wrt each class\n",
      "             precision    recall  f1-score   support\n",
      "\n",
      "          0       0.73      0.77      0.75       866\n",
      "          1       0.63      0.43      0.51       460\n",
      "         -1       0.77      0.84      0.81       985\n",
      "\n",
      "avg / total       0.73      0.73      0.73      2311\n",
      "\n",
      "\n",
      "\n",
      "Model Accuracy is: 73.4747%\n",
      "\n",
      "\n",
      "Precision Score is: 72.6712%\n",
      "\n",
      "\n",
      "Recall Score is: 73.4747%\n",
      "\n",
      "\n",
      "F1-Score is: 72.6319%\n"
     ]
    }
   ],
   "source": [
    "from sklearn.metrics import accuracy_score, classification_report\n",
    "from sklearn.metrics import precision_score\n",
    "from sklearn.metrics import recall_score\n",
    "from sklearn.metrics import f1_score\n",
    "\n",
    "t_precision = precision_score(Y, y_pred_ma, average='weighted')\n",
    "t_recall = recall_score(Y, y_pred_ma, average='weighted')\n",
    "t_f1_score = f1_score(Y, y_pred_ma, average='weighted')\n",
    "\n",
    "target_names = ['0', '1', '-1']\n",
    "print('Pr, Re scores wrt each class')\n",
    "print(classification_report(Y, y_pred_ma, target_names=target_names))\n",
    "\n",
    "print('\\n\\nModel Accuracy is: {:.4%}' .format(mod_accuracy))\n",
    "print('\\n\\nPrecision Score is: {:.4%}' .format(t_precision))\n",
    "print('\\n\\nRecall Score is: {:.4%}' .format(t_recall))\n",
    "print('\\n\\nF1-Score is: {:.4%}' .format(t_f1_score))\n"
   ]
  },
  {
   "cell_type": "code",
   "execution_count": null,
   "metadata": {},
   "outputs": [],
   "source": []
  }
 ],
 "metadata": {
  "kernelspec": {
   "display_name": "Python 3",
   "language": "python",
   "name": "python3"
  },
  "language_info": {
   "codemirror_mode": {
    "name": "ipython",
    "version": 3
   },
   "file_extension": ".py",
   "mimetype": "text/x-python",
   "name": "python",
   "nbconvert_exporter": "python",
   "pygments_lexer": "ipython3",
   "version": "3.5.5"
  }
 },
 "nbformat": 4,
 "nbformat_minor": 2
}
