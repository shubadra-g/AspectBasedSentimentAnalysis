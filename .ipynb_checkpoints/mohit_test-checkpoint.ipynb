{
 "cells": [
  {
   "cell_type": "code",
   "execution_count": 1,
   "metadata": {},
   "outputs": [
    {
     "name": "stdout",
     "output_type": "stream",
     "text": [
      "success\n"
     ]
    },
    {
     "data": {
      "text/plain": [
       "'hello world'"
      ]
     },
     "execution_count": 1,
     "metadata": {},
     "output_type": "execute_result"
    }
   ],
   "source": [
    "import pandas as pd\n",
    "from sklearn import svm\n",
    "import numpy as np\n",
    "\n",
    "from sklearn.model_selection import KFold, train_test_split\n",
    "from sklearn.metrics import accuracy_score, classification_report\n",
    "# from sklearn.metrics import accuracy_score\n",
    "import pickle\n",
    "from sklearn.metrics import precision_score\n",
    "from sklearn.metrics import recall_score\n",
    "from sklearn.metrics import f1_score\n",
    "from sklearn.model_selection import cross_validate\n",
    "from sklearn.model_selection import cross_val_score\n",
    "from sklearn.model_selection import cross_val_predict\n",
    "from sklearn.metrics.scorer import make_scorer\n",
    "from sklearn.metrics import confusion_matrix\n",
    "from sklearn import metrics\n",
    "print('success')\n",
    "'hello world'"
   ]
  },
  {
   "cell_type": "code",
   "execution_count": 2,
   "metadata": {},
   "outputs": [
    {
     "name": "stdout",
     "output_type": "stream",
     "text": [
      "(2311, 2559)\n",
      "(2311, 2558)\n"
     ]
    },
    {
     "data": {
      "text/plain": [
       "'hello world'"
      ]
     },
     "execution_count": 2,
     "metadata": {},
     "output_type": "execute_result"
    }
   ],
   "source": [
    "'''Load data set'''\n",
    "\n",
    "# df1 = pd.read_csv(\"weightxy_data1.csv\")\n",
    "df1 = pd.read_csv(\"weightxy_data1_lemm.csv\")\n",
    "# df1 = pd.read_csv(\"weightxy_data1.csv\")\n",
    "\n",
    "print(df1.shape)\n",
    "\n",
    "print(df1.iloc[:,:-1].shape)\n",
    "\n",
    "'hello world'"
   ]
  },
  {
   "cell_type": "code",
   "execution_count": 3,
   "metadata": {},
   "outputs": [
    {
     "name": "stdout",
     "output_type": "stream",
     "text": [
      "200\n",
      "processed df1 (2311, 2360)\n"
     ]
    }
   ],
   "source": [
    "# print(df1['Unnamed: 0'])\n",
    "\n",
    "count = 0\n",
    "# processed_df1 = df1[['class_']].copy()\n",
    "processed_df1 = pd.DataFrame()\n",
    "temp_one_AT = pd.DataFrame()\n",
    "temp_df2 = pd.DataFrame()\n",
    "\n",
    "for column in df1:\n",
    "#     print(column)\n",
    "    temp_array = np.array(df1[column].values)\n",
    "#     print(np.where(temp_array > 0)[0].shape)\n",
    "    if np.where(temp_array > 0)[0].shape[0] <= 1:\n",
    "        if pd.DataFrame.max(df1[column]) > 1:\n",
    "            temp_one_AT[column] = df1[[column]].copy()\n",
    "            count = count + 1\n",
    "            pass\n",
    "        else:\n",
    "            temp_df2[column] = df1[[column]].copy()\n",
    "            processed_df1[column] = df1[[column]].copy()\n",
    "#             count = count + 1\n",
    "#             print(column)\n",
    "    else: \n",
    "        processed_df1[column] = df1[[column]].copy()\n",
    "        pass\n",
    "\n",
    "processed_df1['temp_1'] = temp_one_AT.sum(axis=1)\n",
    "# processed_df1[temp_2] = temp_df2.sum(axis=1)\n",
    "    \n",
    "print(count)\n",
    "print('processed df1', processed_df1.shape)\n",
    "#     if pd.DataFrame.max(df1[column]) == 0:\n",
    "#         print(column)"
   ]
  },
  {
   "cell_type": "code",
   "execution_count": 4,
   "metadata": {},
   "outputs": [
    {
     "name": "stdout",
     "output_type": "stream",
     "text": [
      "success\n",
      "(2311, 2558)\n",
      "(2311,)\n"
     ]
    },
    {
     "data": {
      "text/plain": [
       "'hello world'"
      ]
     },
     "execution_count": 4,
     "metadata": {},
     "output_type": "execute_result"
    }
   ],
   "source": [
    "# X_train, Y_train = df1.iloc[:,:-1], df1['class_']\n",
    "X_train, Y_train = df1.drop(['class_'], axis = 1), df1['class_']\n",
    "# X_train, Y_train = processed_df1.drop(['class_'], axis = 1), processed_df1['class_']\n",
    "\n",
    "# svm_clf = svm.SVC()\n",
    "svm_clf = svm.LinearSVC(C = 0.1, loss='squared_hinge', penalty = 'l2')\n",
    "# svm_clf = svm.LinearSVC()\n",
    "\n",
    "print('success')\n",
    "print(X_train.shape)\n",
    "print(Y_train.shape)\n",
    "\n",
    "'hello world'"
   ]
  },
  {
   "cell_type": "code",
   "execution_count": 5,
   "metadata": {},
   "outputs": [
    {
     "name": "stdout",
     "output_type": "stream",
     "text": [
      "{'train_accuracy': array([0.91438191, 0.91197691, 0.90620491, 0.91630592, 0.90957191,\n",
      "       0.91298077, 0.91590581, 0.91013936, 0.91013936, 0.91110043]), 'train_recall_micro': array([0.91438191, 0.91197691, 0.90620491, 0.91630592, 0.90957191,\n",
      "       0.91298077, 0.91590581, 0.91013936, 0.91013936, 0.91110043]), 'test_accuracy': array([0.68534483, 0.7112069 , 0.71982759, 0.71551724, 0.73275862,\n",
      "       0.69264069, 0.7173913 , 0.73478261, 0.73913043, 0.72608696]), 'train_precision_micro': array([0.91438191, 0.91197691, 0.90620491, 0.91630592, 0.90957191,\n",
      "       0.91298077, 0.91590581, 0.91013936, 0.91013936, 0.91110043]), 'fit_time': array([0.13639021, 0.12298417, 0.1250093 , 0.0967288 , 0.23897481,\n",
      "       0.1125958 , 0.14839411, 0.10628366, 0.13937068, 0.13989305]), 'test_precision_micro': array([0.68534483, 0.7112069 , 0.71982759, 0.71551724, 0.73275862,\n",
      "       0.69264069, 0.7173913 , 0.73478261, 0.73913043, 0.72608696]), 'score_time': array([0.01701784, 0.        , 0.        , 0.01563001, 0.01102805,\n",
      "       0.00701833, 0.00903201, 0.00601578, 0.01004243, 0.        ]), 'test_recall_micro': array([0.68534483, 0.7112069 , 0.71982759, 0.71551724, 0.73275862,\n",
      "       0.69264069, 0.7173913 , 0.73478261, 0.73913043, 0.72608696])}\n",
      "success\n"
     ]
    },
    {
     "data": {
      "text/plain": [
       "'hello world'"
      ]
     },
     "execution_count": 5,
     "metadata": {},
     "output_type": "execute_result"
    }
   ],
   "source": [
    "'''Cross validation'''\n",
    "scores = cross_validate(svm_clf, X_train, Y_train, cv = 10, scoring = ['precision_micro', 'recall_micro', 'accuracy'] )\n",
    "\n",
    "print(scores)\n",
    "print('success')\n",
    "'hello world'"
   ]
  },
  {
   "cell_type": "code",
   "execution_count": 6,
   "metadata": {},
   "outputs": [
    {
     "name": "stdout",
     "output_type": "stream",
     "text": [
      "[ 1  1 -1 ...  1  1  1]\n",
      "success\n",
      "\n",
      "\n",
      "Model Accuracy is: 71.7438%\n",
      "Pr, Re scores wrt each class\n",
      "             precision    recall  f1-score   support\n",
      "\n",
      "          0       0.77      0.71      0.74       950\n",
      "          1       0.37      0.56      0.45       303\n",
      "         -1       0.83      0.77      0.80      1058\n",
      "\n",
      "avg / total       0.75      0.72      0.73      2311\n",
      "\n"
     ]
    }
   ],
   "source": [
    "'''Cross validation'''\n",
    "y_pred = cross_val_predict(svm_clf, X_train, Y_train, cv = 10) #, scoring = 'accuracy')\n",
    "\n",
    "print(y_pred)\n",
    "print('success')\n",
    "'hello world'\n",
    "\n",
    "\n",
    "mod_accracy = accuracy_score(y_pred, Y_train)\n",
    "print('\\n\\nModel Accuracy is: {:.4%}' .format(mod_accracy))\n",
    "\n",
    "target_names = ['0', '1', '-1']\n",
    "print('Pr, Re scores wrt each class')\n",
    "print(classification_report(y_pred, Y_train, target_names=target_names))\n"
   ]
  },
  {
   "cell_type": "code",
   "execution_count": null,
   "metadata": {},
   "outputs": [],
   "source": []
  }
 ],
 "metadata": {
  "kernelspec": {
   "display_name": "Python 3",
   "language": "python",
   "name": "python3"
  },
  "language_info": {
   "codemirror_mode": {
    "name": "ipython",
    "version": 3
   },
   "file_extension": ".py",
   "mimetype": "text/x-python",
   "name": "python",
   "nbconvert_exporter": "python",
   "pygments_lexer": "ipython3",
   "version": "3.5.5"
  }
 },
 "nbformat": 4,
 "nbformat_minor": 2
}
