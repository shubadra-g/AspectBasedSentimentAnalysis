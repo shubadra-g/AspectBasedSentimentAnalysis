{
 "cells": [
  {
   "cell_type": "code",
   "execution_count": 1,
   "metadata": {},
   "outputs": [
    {
     "name": "stdout",
     "output_type": "stream",
     "text": [
      "success\n"
     ]
    },
    {
     "data": {
      "text/plain": [
       "'hello world'"
      ]
     },
     "execution_count": 1,
     "metadata": {},
     "output_type": "execute_result"
    }
   ],
   "source": [
    "import pandas as pd\n",
    "from sklearn import svm\n",
    "import numpy as np\n",
    "\n",
    "from sklearn.model_selection import KFold, train_test_split\n",
    "from sklearn.metrics import accuracy_score, classification_report\n",
    "# from sklearn.metrics import accuracy_score\n",
    "import pickle\n",
    "from sklearn.metrics import precision_score\n",
    "from sklearn.metrics import recall_score\n",
    "from sklearn.metrics import f1_score\n",
    "from sklearn.model_selection import cross_validate\n",
    "from sklearn.model_selection import cross_val_score\n",
    "from sklearn.model_selection import cross_val_predict\n",
    "from sklearn.metrics.scorer import make_scorer\n",
    "from sklearn.metrics import confusion_matrix\n",
    "from sklearn import metrics\n",
    "print('success')\n",
    "'hello world'"
   ]
  },
  {
   "cell_type": "code",
   "execution_count": 2,
   "metadata": {},
   "outputs": [
    {
     "name": "stdout",
     "output_type": "stream",
     "text": [
      "(2311, 2857)\n",
      "(2311, 2856)\n"
     ]
    },
    {
     "data": {
      "text/plain": [
       "'hello world'"
      ]
     },
     "execution_count": 2,
     "metadata": {},
     "output_type": "execute_result"
    }
   ],
   "source": [
    "'''Load data set'''\n",
    "\n",
    "df1 = pd.read_csv(\"weightxy_data1.csv\")\n",
    "\n",
    "print(df1.shape)\n",
    "\n",
    "print(df1.iloc[:,:-1].shape)\n",
    "\n",
    "'hello world'"
   ]
  },
  {
   "cell_type": "code",
   "execution_count": 4,
   "metadata": {},
   "outputs": [
    {
     "name": "stdout",
     "output_type": "stream",
     "text": [
      "0.2\n",
      "693\n",
      "processed df1 (2311, 2164)\n"
     ]
    }
   ],
   "source": [
    "# print(df1['Unnamed: 0'])\n",
    "\n",
    "print(pd.DataFrame.max(df1[df1.columns[0]]))\n",
    "count = 0\n",
    "# processed_df1 = df1[['class_']].copy()\n",
    "processed_df1 = pd.DataFrame()\n",
    "\n",
    "for column in df1:\n",
    "#     print(column)\n",
    "    temp_array = np.array(df1[column].values)\n",
    "#     print(np.where(temp_array > 0)[0].shape)\n",
    "    if np.where(temp_array > 0)[0].shape[0] <= 1:\n",
    "        if pd.DataFrame.max(df1[column]) > 1:\n",
    "            processed_df1[column] = df1[[column]].copy()\n",
    "        else:\n",
    "            count = count + 1\n",
    "#             print(column)\n",
    "    else: \n",
    "        processed_df1[column] = df1[[column]].copy()\n",
    "        pass\n",
    "    \n",
    "print(count)\n",
    "print('processed df1', processed_df1.shape)\n",
    "#     if pd.DataFrame.max(df1[column]) == 0:\n",
    "#         print(column)"
   ]
  },
  {
   "cell_type": "code",
   "execution_count": 7,
   "metadata": {},
   "outputs": [
    {
     "name": "stdout",
     "output_type": "stream",
     "text": [
      "success\n",
      "(2311, 2163)\n",
      "(2311,)\n"
     ]
    },
    {
     "data": {
      "text/plain": [
       "'hello world'"
      ]
     },
     "execution_count": 7,
     "metadata": {},
     "output_type": "execute_result"
    }
   ],
   "source": [
    "# X_train, Y_train = df1.iloc[:,:-1], df1['class_']\n",
    "# X_train, Y_train = df1.drop(['class_'], axis = 1), df1['class_']\n",
    "X_train, Y_train = processed_df1.drop(['class_'], axis = 1), processed_df1['class_']\n",
    "\n",
    "# svm_clf = svm.SVC()\n",
    "svm_clf = svm.LinearSVC()\n",
    "\n",
    "print('success')\n",
    "print(X_train.shape)\n",
    "print(Y_train.shape)\n",
    "\n",
    "'hello world'"
   ]
  },
  {
   "cell_type": "code",
   "execution_count": 8,
   "metadata": {},
   "outputs": [
    {
     "name": "stdout",
     "output_type": "stream",
     "text": [
      "{'fit_time': array([ 0.19349599,  0.18950343,  0.18725967,  0.20072222,  0.28918815,\n",
      "        0.18956208,  0.19229221,  0.18549323,  0.17687845,  0.20518184]), 'score_time': array([ 0.        ,  0.00501466,  0.        ,  0.00501561,  0.01161313,\n",
      "        0.        ,  0.00604558,  0.00501466,  0.01562834,  0.01358724]), 'test_precision_micro': array([ 0.67672414,  0.67672414,  0.71982759,  0.69827586,  0.70258621,\n",
      "        0.67099567,  0.7       ,  0.73478261,  0.73043478,  0.71304348]), 'train_precision_micro': array([ 0.97883598,  0.97546898,  0.97787398,  0.97546898,  0.97450697,\n",
      "        0.97788462,  0.98173955,  0.97405094,  0.97789524,  0.97693417]), 'test_recall_micro': array([ 0.67672414,  0.67672414,  0.71982759,  0.69827586,  0.70258621,\n",
      "        0.67099567,  0.7       ,  0.73478261,  0.73043478,  0.71304348]), 'train_recall_micro': array([ 0.97883598,  0.97546898,  0.97787398,  0.97546898,  0.97450697,\n",
      "        0.97788462,  0.98173955,  0.97405094,  0.97789524,  0.97693417]), 'test_accuracy': array([ 0.67672414,  0.67672414,  0.71982759,  0.69827586,  0.70258621,\n",
      "        0.67099567,  0.7       ,  0.73478261,  0.73043478,  0.71304348]), 'train_accuracy': array([ 0.97883598,  0.97546898,  0.97787398,  0.97546898,  0.97450697,\n",
      "        0.97788462,  0.98173955,  0.97405094,  0.97789524,  0.97693417])}\n",
      "success\n"
     ]
    },
    {
     "data": {
      "text/plain": [
       "'hello world'"
      ]
     },
     "execution_count": 8,
     "metadata": {},
     "output_type": "execute_result"
    }
   ],
   "source": [
    "'''Cross validation'''\n",
    "scores = cross_validate(svm_clf, X_train, Y_train, cv = 10, scoring = ['precision_micro', 'recall_micro', 'accuracy'] )\n",
    "\n",
    "print(scores)\n",
    "print('success')\n",
    "'hello world'"
   ]
  },
  {
   "cell_type": "code",
   "execution_count": null,
   "metadata": {
    "collapsed": true
   },
   "outputs": [],
   "source": [
    "print(scores)\n"
   ]
  },
  {
   "cell_type": "code",
   "execution_count": null,
   "metadata": {
    "collapsed": true
   },
   "outputs": [],
   "source": [
    "something = cross_val_score(svm_clf, X_train, Y_train, cv = 10 )"
   ]
  },
  {
   "cell_type": "code",
   "execution_count": null,
   "metadata": {
    "collapsed": true
   },
   "outputs": [],
   "source": [
    "print(something)"
   ]
  },
  {
   "cell_type": "code",
   "execution_count": null,
   "metadata": {
    "collapsed": true
   },
   "outputs": [],
   "source": [
    "print(len(something))"
   ]
  },
  {
   "cell_type": "code",
   "execution_count": null,
   "metadata": {
    "collapsed": true
   },
   "outputs": [],
   "source": []
  }
 ],
 "metadata": {
  "kernelspec": {
   "display_name": "Python 3",
   "language": "python",
   "name": "python3"
  },
  "language_info": {
   "codemirror_mode": {
    "name": "ipython",
    "version": 3
   },
   "file_extension": ".py",
   "mimetype": "text/x-python",
   "name": "python",
   "nbconvert_exporter": "python",
   "pygments_lexer": "ipython3",
   "version": "3.6.3"
  }
 },
 "nbformat": 4,
 "nbformat_minor": 2
}
